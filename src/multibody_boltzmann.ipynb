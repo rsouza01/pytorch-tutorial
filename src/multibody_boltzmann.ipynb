{
 "cells": [
  {
   "cell_type": "code",
   "execution_count": 1,
   "metadata": {},
   "outputs": [
    {
     "name": "stdout",
     "output_type": "stream",
     "text": [
      "Requirement already satisfied: torch in /home/codespace/.local/lib/python3.12/site-packages (2.6.0+cpu)\n",
      "Requirement already satisfied: numpy in /home/codespace/.local/lib/python3.12/site-packages (2.2.4)\n",
      "Requirement already satisfied: matplotlib in /home/codespace/.local/lib/python3.12/site-packages (3.10.1)\n",
      "Requirement already satisfied: scienceplots in /usr/local/python/3.12.1/lib/python3.12/site-packages (2.1.1)\n",
      "Requirement already satisfied: filelock in /home/codespace/.local/lib/python3.12/site-packages (from torch) (3.13.1)\n",
      "Requirement already satisfied: typing-extensions>=4.10.0 in /home/codespace/.local/lib/python3.12/site-packages (from torch) (4.12.2)\n",
      "Requirement already satisfied: networkx in /home/codespace/.local/lib/python3.12/site-packages (from torch) (3.3)\n",
      "Requirement already satisfied: jinja2 in /home/codespace/.local/lib/python3.12/site-packages (from torch) (3.1.6)\n",
      "Requirement already satisfied: fsspec in /home/codespace/.local/lib/python3.12/site-packages (from torch) (2024.6.1)\n",
      "Requirement already satisfied: setuptools in /home/codespace/.local/lib/python3.12/site-packages (from torch) (76.0.0)\n",
      "Requirement already satisfied: sympy==1.13.1 in /home/codespace/.local/lib/python3.12/site-packages (from torch) (1.13.1)\n",
      "Requirement already satisfied: mpmath<1.4,>=1.1.0 in /home/codespace/.local/lib/python3.12/site-packages (from sympy==1.13.1->torch) (1.3.0)\n",
      "Requirement already satisfied: contourpy>=1.0.1 in /home/codespace/.local/lib/python3.12/site-packages (from matplotlib) (1.3.1)\n",
      "Requirement already satisfied: cycler>=0.10 in /home/codespace/.local/lib/python3.12/site-packages (from matplotlib) (0.12.1)\n",
      "Requirement already satisfied: fonttools>=4.22.0 in /home/codespace/.local/lib/python3.12/site-packages (from matplotlib) (4.56.0)\n",
      "Requirement already satisfied: kiwisolver>=1.3.1 in /home/codespace/.local/lib/python3.12/site-packages (from matplotlib) (1.4.8)\n",
      "Requirement already satisfied: packaging>=20.0 in /home/codespace/.local/lib/python3.12/site-packages (from matplotlib) (24.2)\n",
      "Requirement already satisfied: pillow>=8 in /home/codespace/.local/lib/python3.12/site-packages (from matplotlib) (11.1.0)\n",
      "Requirement already satisfied: pyparsing>=2.3.1 in /home/codespace/.local/lib/python3.12/site-packages (from matplotlib) (3.2.1)\n",
      "Requirement already satisfied: python-dateutil>=2.7 in /home/codespace/.local/lib/python3.12/site-packages (from matplotlib) (2.9.0.post0)\n",
      "Requirement already satisfied: six>=1.5 in /home/codespace/.local/lib/python3.12/site-packages (from python-dateutil>=2.7->matplotlib) (1.17.0)\n",
      "Requirement already satisfied: MarkupSafe>=2.0 in /home/codespace/.local/lib/python3.12/site-packages (from jinja2->torch) (3.0.2)\n",
      "  % Total    % Received % Xferd  Average Speed   Time    Time     Time  Current\n",
      "                                 Dload  Upload   Total   Spent    Left  Speed\n",
      "100 39.9M  100 39.9M    0     0  13.8M      0  0:00:02  0:00:02 --:--:-- 13.8M\n",
      "env: PATH=/home/codespace/.dotnet:/home/codespace/nvm/current/bin:/home/codespace/.php/current/bin:/home/codespace/.python/current/bin:/home/codespace/java/current/bin:/home/codespace/.ruby/current/bin:/home/codespace/.local/bin:/usr/local/python/current/bin:/usr/local/py-utils/bin:/usr/local/jupyter:/usr/local/oryx:/usr/local/go/bin:/go/bin:/usr/local/sdkman/bin:/usr/local/sdkman/candidates/java/current/bin:/usr/local/sdkman/candidates/gradle/current/bin:/usr/local/sdkman/candidates/maven/current/bin:/usr/local/sdkman/candidates/ant/current/bin:/usr/local/rvm/gems/default/bin:/usr/local/rvm/gems/default@global/bin:/usr/local/rvm/rubies/default/bin:/usr/local/share/rbenv/bin:/usr/local/php/current/bin:/opt/conda/bin:/usr/local/nvs:/usr/local/share/nvm/current/bin:/usr/local/hugo/bin:/usr/local/sbin:/usr/local/bin:/usr/sbin:/usr/bin:/sbin:/bin:/usr/share/dotnet:~/.dotnet/tools:./ffmpeg-7.0.2-amd64-static\n",
      "\n",
      "./ffmpeg-7.0.2-amd64-static/ffmpeg\n",
      "Done!\n"
     ]
    }
   ],
   "source": [
    "import sys\n",
    "!{sys.executable} -m pip install torch numpy matplotlib scienceplots\n",
    "\n",
    "import torch\n",
    "import os\n",
    "import numpy as np\n",
    "import matplotlib.pyplot as plt\n",
    "import matplotlib\n",
    "from matplotlib import animation\n",
    "from matplotlib.animation import PillowWriter\n",
    "import scienceplots\n",
    "\n",
    "exist = !which ffmpeg\n",
    "if not exist:\n",
    "  !curl https://johnvansickle.com/ffmpeg/releases/ffmpeg-release-amd64-static.tar.xz -o ffmpeg.tar.xz \\\n",
    "     && tar -xf ffmpeg.tar.xz && rm ffmpeg.tar.xz\n",
    "  ffmdir = !find . -iname ffmpeg-*-static\n",
    "  path = %env PATH\n",
    "  path = path + ':' + ffmdir[0]\n",
    "  %env PATH $path\n",
    "print('')\n",
    "!which ffmpeg\n",
    "print('Done!')\n",
    "\n",
    "plt.style.use(['science', 'notebook'])\n",
    "device = torch.device('cuda' if torch.cuda.is_available() else 'cpu')"
   ]
  },
  {
   "cell_type": "markdown",
   "metadata": {},
   "source": [
    "Define number of particles and get random positions (between 0 and 1) for each particle"
   ]
  },
  {
   "cell_type": "code",
   "execution_count": 2,
   "metadata": {},
   "outputs": [],
   "source": [
    "n_particles = 16\n",
    "r = torch.rand((2,n_particles)).to(device)"
   ]
  },
  {
   "cell_type": "code",
   "execution_count": 3,
   "metadata": {},
   "outputs": [],
   "source": [
    "n_particles = 16\n",
    "r = torch.rand((2,n_particles)).to(device)\n",
    "# Color particles the start on either side\n",
    "ixr = r[0]>0.5 #right\n",
    "ixl = r[0]<=0.5 #left"
   ]
  },
  {
   "cell_type": "markdown",
   "metadata": {},
   "source": [
    "Give IDs to each particle (this will come in handy later)"
   ]
  },
  {
   "cell_type": "code",
   "execution_count": 4,
   "metadata": {},
   "outputs": [],
   "source": [
    "ids = torch.arange(n_particles)"
   ]
  },
  {
   "cell_type": "markdown",
   "metadata": {},
   "source": [
    "Plot initial configuration of particles"
   ]
  },
  {
   "cell_type": "code",
   "execution_count": 5,
   "metadata": {},
   "outputs": [
    {
     "data": {
      "text/plain": [
       "<matplotlib.collections.PathCollection at 0x730624bc0f50>"
      ]
     },
     "execution_count": 5,
     "metadata": {},
     "output_type": "execute_result"
    },
    {
     "data": {
      "image/png": "[encoded data removed]",
      "text/plain": [
       "<Figure size 500x500 with 1 Axes>"
      ]
     },
     "metadata": {},
     "output_type": "display_data"
    }
   ],
   "source": [
    "plt.figure(figsize=(5,5))\n",
    "plt.scatter(r[0][ixr].cpu(),r[1][ixr].cpu(), color='r', s=6)\n",
    "plt.scatter(r[0][ixl].cpu(),r[1][ixl].cpu(), color='b', s=6)"
   ]
  },
  {
   "cell_type": "markdown",
   "metadata": {},
   "source": [
    "Obtain the initial velocities in the gas. We'll make the particles starting on the RHS move to the left at 500m/s and on the vice versa.\n",
    "\n",
    "* **Note**: We're using the assumption that particles in a gas move at approximately 500m/s, thanks google."
   ]
  },
  {
   "cell_type": "code",
   "execution_count": 6,
   "metadata": {},
   "outputs": [],
   "source": [
    "v = torch.zeros((2,n_particles)).to(device)\n",
    "v[0][ixr] = -500\n",
    "v[0][ixl] = 500"
   ]
  },
  {
   "cell_type": "markdown",
   "metadata": {},
   "source": [
    "To run this simulation, we need to determine when two particles collide, and what the resulting final velocities will be.\n",
    "\n",
    "# Part 1: Distance Between all Pairs\n",
    "\n",
    "* To determine if two particles collide, we need to find the distance between **all pairs** of particles. If the distance is less than 2 times the radius of each particle, they collide. If there are $n$ particles, there are $n(n-1)/2$ pairs (combinatorics). To make this easier, we'll get pairs of particle IDs."
   ]
  },
  {
   "cell_type": "code",
   "execution_count": 7,
   "metadata": {},
   "outputs": [],
   "source": [
    "ids_pairs = torch.combinations(ids,2).to(device)\n",
    "#ids_pairs"
   ]
  },
  {
   "attachments": {},
   "cell_type": "markdown",
   "metadata": {},
   "source": [
    "We can obtain distances between particles in a similar fashion\n",
    "\n",
    "* First get the pairs of x-positions of all particles (**NOTE: THIS HAS BEEN UPDATED SINCE THE YOUTUBE VIDEO AND IS MUCH MORE EFFICIENT. THANK YOU TO @swni ON REDDIT FOR THE SUGGESTION**)"
   ]
  },
  {
   "cell_type": "code",
   "execution_count": 8,
   "metadata": {},
   "outputs": [
    {
     "data": {
      "text/plain": [
       "tensor([[0.4672, 0.8156],\n",
       "        [0.4672, 0.3177],\n",
       "        [0.4672, 0.5745],\n",
       "        [0.4672, 0.2178],\n",
       "        [0.4672, 0.4017],\n",
       "        [0.4672, 0.4713],\n",
       "        [0.4672, 0.1355],\n",
       "        [0.4672, 0.9416],\n",
       "        [0.4672, 0.6288],\n",
       "        [0.4672, 0.0704],\n",
       "        [0.4672, 0.1782],\n",
       "        [0.4672, 0.4002],\n",
       "        [0.4672, 0.9826],\n",
       "        [0.4672, 0.2009],\n",
       "        [0.4672, 0.4934],\n",
       "        [0.8156, 0.3177],\n",
       "        [0.8156, 0.5745],\n",
       "        [0.8156, 0.2178],\n",
       "        [0.8156, 0.4017],\n",
       "        [0.8156, 0.4713],\n",
       "        [0.8156, 0.1355],\n",
       "        [0.8156, 0.9416],\n",
       "        [0.8156, 0.6288],\n",
       "        [0.8156, 0.0704],\n",
       "        [0.8156, 0.1782],\n",
       "        [0.8156, 0.4002],\n",
       "        [0.8156, 0.9826],\n",
       "        [0.8156, 0.2009],\n",
       "        [0.8156, 0.4934],\n",
       "        [0.3177, 0.5745],\n",
       "        [0.3177, 0.2178],\n",
       "        [0.3177, 0.4017],\n",
       "        [0.3177, 0.4713],\n",
       "        [0.3177, 0.1355],\n",
       "        [0.3177, 0.9416],\n",
       "        [0.3177, 0.6288],\n",
       "        [0.3177, 0.0704],\n",
       "        [0.3177, 0.1782],\n",
       "        [0.3177, 0.4002],\n",
       "        [0.3177, 0.9826],\n",
       "        [0.3177, 0.2009],\n",
       "        [0.3177, 0.4934],\n",
       "        [0.5745, 0.2178],\n",
       "        [0.5745, 0.4017],\n",
       "        [0.5745, 0.4713],\n",
       "        [0.5745, 0.1355],\n",
       "        [0.5745, 0.9416],\n",
       "        [0.5745, 0.6288],\n",
       "        [0.5745, 0.0704],\n",
       "        [0.5745, 0.1782],\n",
       "        [0.5745, 0.4002],\n",
       "        [0.5745, 0.9826],\n",
       "        [0.5745, 0.2009],\n",
       "        [0.5745, 0.4934],\n",
       "        [0.2178, 0.4017],\n",
       "        [0.2178, 0.4713],\n",
       "        [0.2178, 0.1355],\n",
       "        [0.2178, 0.9416],\n",
       "        [0.2178, 0.6288],\n",
       "        [0.2178, 0.0704],\n",
       "        [0.2178, 0.1782],\n",
       "        [0.2178, 0.4002],\n",
       "        [0.2178, 0.9826],\n",
       "        [0.2178, 0.2009],\n",
       "        [0.2178, 0.4934],\n",
       "        [0.4017, 0.4713],\n",
       "        [0.4017, 0.1355],\n",
       "        [0.4017, 0.9416],\n",
       "        [0.4017, 0.6288],\n",
       "        [0.4017, 0.0704],\n",
       "        [0.4017, 0.1782],\n",
       "        [0.4017, 0.4002],\n",
       "        [0.4017, 0.9826],\n",
       "        [0.4017, 0.2009],\n",
       "        [0.4017, 0.4934],\n",
       "        [0.4713, 0.1355],\n",
       "        [0.4713, 0.9416],\n",
       "        [0.4713, 0.6288],\n",
       "        [0.4713, 0.0704],\n",
       "        [0.4713, 0.1782],\n",
       "        [0.4713, 0.4002],\n",
       "        [0.4713, 0.9826],\n",
       "        [0.4713, 0.2009],\n",
       "        [0.4713, 0.4934],\n",
       "        [0.1355, 0.9416],\n",
       "        [0.1355, 0.6288],\n",
       "        [0.1355, 0.0704],\n",
       "        [0.1355, 0.1782],\n",
       "        [0.1355, 0.4002],\n",
       "        [0.1355, 0.9826],\n",
       "        [0.1355, 0.2009],\n",
       "        [0.1355, 0.4934],\n",
       "        [0.9416, 0.6288],\n",
       "        [0.9416, 0.0704],\n",
       "        [0.9416, 0.1782],\n",
       "        [0.9416, 0.4002],\n",
       "        [0.9416, 0.9826],\n",
       "        [0.9416, 0.2009],\n",
       "        [0.9416, 0.4934],\n",
       "        [0.6288, 0.0704],\n",
       "        [0.6288, 0.1782],\n",
       "        [0.6288, 0.4002],\n",
       "        [0.6288, 0.9826],\n",
       "        [0.6288, 0.2009],\n",
       "        [0.6288, 0.4934],\n",
       "        [0.0704, 0.1782],\n",
       "        [0.0704, 0.4002],\n",
       "        [0.0704, 0.9826],\n",
       "        [0.0704, 0.2009],\n",
       "        [0.0704, 0.4934],\n",
       "        [0.1782, 0.4002],\n",
       "        [0.1782, 0.9826],\n",
       "        [0.1782, 0.2009],\n",
       "        [0.1782, 0.4934],\n",
       "        [0.4002, 0.9826],\n",
       "        [0.4002, 0.2009],\n",
       "        [0.4002, 0.4934],\n",
       "        [0.9826, 0.2009],\n",
       "        [0.9826, 0.4934],\n",
       "        [0.2009, 0.4934]])"
      ]
     },
     "execution_count": 8,
     "metadata": {},
     "output_type": "execute_result"
    }
   ],
   "source": [
    "x_pairs = torch.stack([r[0][ids_pairs[:,0]], r[0][ids_pairs[:,1]]]).T\n",
    "x_pairs"
   ]
  },
  {
   "cell_type": "markdown",
   "metadata": {},
   "source": [
    "* Then take the difference to get $\\Delta x_{ij}$ of all pairs"
   ]
  },
  {
   "cell_type": "code",
   "execution_count": 9,
   "metadata": {},
   "outputs": [
    {
     "data": {
      "text/plain": [
       "tensor([ 0.3484, -0.1495,  0.1073, -0.2493, -0.0654,  0.0041, -0.3317,  0.4744,\n",
       "         0.1616, -0.3968, -0.2890, -0.0670,  0.5155, -0.2663,  0.0263, -0.4979,\n",
       "        -0.2411, -0.5978, -0.4139, -0.3443, -0.6802,  0.1260, -0.1868, -0.7453,\n",
       "        -0.6374, -0.4154,  0.1670, -0.6147, -0.3222,  0.2568, -0.0999,  0.0841,\n",
       "         0.1536, -0.1822,  0.6239,  0.3111, -0.2473, -0.1395,  0.0825,  0.6649,\n",
       "        -0.1168,  0.1757, -0.3566, -0.1727, -0.1032, -0.4390,  0.3671,  0.0543,\n",
       "        -0.5041, -0.3963, -0.1743,  0.4082, -0.3736, -0.0810,  0.1839,  0.2535,\n",
       "        -0.0824,  0.7238,  0.4109, -0.1475, -0.0397,  0.1824,  0.7648, -0.0170,\n",
       "         0.2756,  0.0696, -0.2663,  0.5399,  0.2270, -0.3314, -0.2236, -0.0015,\n",
       "         0.5809, -0.2009,  0.0917, -0.3359,  0.4703,  0.1575, -0.4010, -0.2931,\n",
       "        -0.0711,  0.5113, -0.2704,  0.0221,  0.8062,  0.4933, -0.0651,  0.0427,\n",
       "         0.2648,  0.8472,  0.0654,  0.3580, -0.3128, -0.8713, -0.7634, -0.5414,\n",
       "         0.0410, -0.7407, -0.4482, -0.5584, -0.4506, -0.2286,  0.3539, -0.4279,\n",
       "        -0.1353,  0.1078,  0.3299,  0.9123,  0.1305,  0.4231,  0.2220,  0.8045,\n",
       "         0.0227,  0.3152,  0.5824, -0.1993,  0.0932, -0.7817, -0.4892,  0.2925])"
      ]
     },
     "execution_count": 9,
     "metadata": {},
     "output_type": "execute_result"
    }
   ],
   "source": [
    "dx_pairs = torch.diff(x_pairs, axis=1).ravel()\n",
    "dx_pairs"
   ]
  },
  {
   "cell_type": "markdown",
   "metadata": {},
   "source": [
    "The total distance is just $d_{ij}= \\sqrt{\\Delta x_{ij}^2 + \\Delta y_{ij}^2}$. Since there are $n(n-1)/2$ pairs, there will be $n(n-1)/2$ different values of $d_{ij}$."
   ]
  },
  {
   "cell_type": "code",
   "execution_count": 10,
   "metadata": {},
   "outputs": [
    {
     "data": {
      "text/plain": [
       "tensor([0.4920, 0.7192, 0.1108, 0.6910, 0.1780, 0.1058, 0.6797, 0.8532, 0.2427,\n",
       "        0.4724, 0.9226, 0.1863, 0.5206, 0.8380, 0.7572, 0.6121, 0.4006, 0.6675,\n",
       "        0.4521, 0.4207, 0.7232, 0.3830, 0.2501, 0.7508, 0.8282, 0.4502, 0.3210,\n",
       "        0.7602, 0.5209, 0.7230, 0.1160, 0.5445, 0.6172, 0.2130, 0.6239, 0.6080,\n",
       "        0.5111, 0.2220, 0.5361, 0.9162, 0.1481, 0.1836, 0.7125, 0.2210, 0.1294,\n",
       "        0.7160, 0.7741, 0.1628, 0.5536, 0.9366, 0.2275, 0.4107, 0.8531, 0.7337,\n",
       "        0.5130, 0.5954, 0.0970, 0.7267, 0.6193, 0.4153, 0.2351, 0.5047, 0.9546,\n",
       "        0.1511, 0.2976, 0.0917, 0.5038, 0.7661, 0.2276, 0.3436, 0.7450, 0.0085,\n",
       "        0.5882, 0.6604, 0.5983, 0.5920, 0.7651, 0.1746, 0.4283, 0.8244, 0.0985,\n",
       "        0.5123, 0.7401, 0.6515, 0.8144, 0.6428, 0.3432, 0.2862, 0.4960, 0.9940,\n",
       "        0.2117, 0.3936, 0.6137, 0.9819, 0.7815, 0.7613, 0.6372, 0.7456, 0.4507,\n",
       "        0.5635, 0.8283, 0.2287, 0.3699, 0.7480, 0.5914, 0.6293, 0.3400, 0.9305,\n",
       "        0.5540, 0.6554, 0.7366, 1.1366, 0.0847, 0.3371, 0.5910, 0.6520, 0.5904,\n",
       "        1.0637, 0.8406, 0.2950])"
      ]
     },
     "execution_count": 10,
     "metadata": {},
     "output_type": "execute_result"
    }
   ],
   "source": [
    "x_pairs = torch.stack([r[0][ids_pairs[:,0]], r[0][ids_pairs[:,1]]]).T\n",
    "y_pairs = torch.stack([r[1][ids_pairs[:,0]], r[1][ids_pairs[:,1]]]).T\n",
    "dx_pairs = torch.diff(x_pairs, axis=1).ravel()\n",
    "dy_pairs = torch.diff(y_pairs, axis=1).ravel()\n",
    "d_pairs = torch.sqrt(dx_pairs**2 + dy_pairs**2)\n",
    "d_pairs"
   ]
  },
  {
   "cell_type": "markdown",
   "metadata": {},
   "source": [
    "# Part 2: Velocities of a Collision"
   ]
  },
  {
   "cell_type": "markdown",
   "metadata": {},
   "source": [
    "So at each iteration of the simulation, we will evaluate `d_pairs`, and if any of the distances between particles is less than $2r$, then a collision occurs. What is the final velocity of each of the two spheres? In an elastic collision (conservation of energy + momentum + angular momentum), one can show\n",
    "\n",
    "$$\\vec{v}_1^{\\text{new}} = \\vec{v}_1 - \\frac{(\\vec{v}_1 - \\vec{v}_2) \\cdot (\\vec{r}_1 - \\vec{r}_2)}{|\\vec{r}_1 - \\vec{r}_2|^2} (\\vec{r}_1 - \\vec{r}_2)$$\n",
    "$$\\vec{v}_2^{\\text{new}} = \\vec{v}_2 - \\frac{(\\vec{v}_2 - \\vec{v}_1) \\cdot (\\vec{r}_2 - \\vec{r}_1)}{|\\vec{r}_1 - \\vec{r}_2|^2} (\\vec{r}_2 - \\vec{r}_1)$$"
   ]
  },
  {
   "cell_type": "code",
   "execution_count": 11,
   "metadata": {},
   "outputs": [
    {
     "data": {
      "text/plain": [
       "tensor([[ 0,  3],\n",
       "        [ 0,  6],\n",
       "        [ 2,  4],\n",
       "        [ 4,  7],\n",
       "        [ 5,  6],\n",
       "        [ 5, 12],\n",
       "        [ 6, 12],\n",
       "        [11, 14]])"
      ]
     },
     "execution_count": 11,
     "metadata": {},
     "output_type": "execute_result"
    }
   ],
   "source": [
    "radius = 0.06\n",
    "ids_pairs_collide = ids_pairs[d_pairs < 2*radius]\n",
    "ids_pairs_collide"
   ]
  },
  {
   "cell_type": "markdown",
   "metadata": {},
   "source": [
    "We will call all the particles in the left column \"1\" and the right column \"2\""
   ]
  },
  {
   "cell_type": "code",
   "execution_count": 12,
   "metadata": {},
   "outputs": [],
   "source": [
    "v1 = v[:,ids_pairs_collide[:,0]]\n",
    "v2 = v[:,ids_pairs_collide[:,1]]\n",
    "r1 = r[:,ids_pairs_collide[:,0]]\n",
    "r2 = r[:,ids_pairs_collide[:,1]]"
   ]
  },
  {
   "cell_type": "markdown",
   "metadata": {},
   "source": [
    "Then we can compute the new velocity:"
   ]
  },
  {
   "cell_type": "code",
   "execution_count": 13,
   "metadata": {},
   "outputs": [],
   "source": [
    "v1new = v1 - torch.sum((v1-v2)*(r1-r2), axis=0)/torch.sum((r1-r2)**2, axis=0) * (r1-r2)\n",
    "v2new = v2 - torch.sum((v1-v2)*(r1-r2), axis=0)/torch.sum((r2-r1)**2, axis=0) * (r2-r1)"
   ]
  },
  {
   "cell_type": "markdown",
   "metadata": {},
   "source": [
    "# Part 3: Functions to Run the Simulation"
   ]
  },
  {
   "cell_type": "markdown",
   "metadata": {},
   "source": [
    "Here we define some functions that will help make running the simulation easier."
   ]
  },
  {
   "cell_type": "code",
   "execution_count": 14,
   "metadata": {},
   "outputs": [],
   "source": [
    "def get_deltad2_pairs(r, ids_pairs):\n",
    "    dx = torch.diff(torch.stack([r[0][ids_pairs[:,0]], r[0][ids_pairs[:,1]]]).T).squeeze()\n",
    "    dy = torch.diff(torch.stack([r[1][ids_pairs[:,0]], r[1][ids_pairs[:,1]]]).T).squeeze()\n",
    "    return dx**2 + dy**2\n",
    "\n",
    "def compute_new_v(v1, v2, r1, r2):\n",
    "    v1new = v1 - torch.sum((v1-v2)*(r1-r2), axis=0)/torch.sum((r1-r2)**2, axis=0) * (r1-r2)\n",
    "    v2new = v2 - torch.sum((v1-v2)*(r1-r2), axis=0)/torch.sum((r2-r1)**2, axis=0) * (r2-r1)\n",
    "    return v1new, v2new\n",
    "\n",
    "def motion(r, v, id_pairs, ts, dt, d_cutoff):\n",
    "    rs = torch.zeros((ts, r.shape[0], r.shape[1])).to(device)\n",
    "    vs = torch.zeros((ts, v.shape[0], v.shape[1])).to(device)\n",
    "    # Initial State\n",
    "    rs[0] = r\n",
    "    vs[0] = v\n",
    "    for i in range(1,ts):\n",
    "        ic = id_pairs[get_deltad2_pairs(r, ids_pairs) < d_cutoff**2]\n",
    "        v[:,ic[:,0]], v[:,ic[:,1]] = compute_new_v(v[:,ic[:,0]], v[:,ic[:,1]], r[:,ic[:,0]], r[:,ic[:,1]])\n",
    "        \n",
    "        v[0,r[0]>1] = -torch.abs(v[0,r[0]>1])\n",
    "        v[0,r[0]<0] = torch.abs(v[0,r[0]<0])\n",
    "        v[1,r[1]>1] = -torch.abs(v[1,r[1]>1])\n",
    "        v[1,r[1]<0] = torch.abs(v[1,r[1]<0])\n",
    "        \n",
    "        r = r + v*dt\n",
    "        rs[i] = r\n",
    "        vs[i] = v\n",
    "    return rs, vs"
   ]
  },
  {
   "cell_type": "markdown",
   "metadata": {},
   "source": [
    "Set the radius and find the position of all particles as a function of time (3D array `rs` where each axis is $(t,x,y)$)."
   ]
  },
  {
   "cell_type": "code",
   "execution_count": 15,
   "metadata": {},
   "outputs": [],
   "source": [
    "radius = 0.03\n",
    "rs, vs = motion(r, v, ids_pairs, ts=1000, dt=0.000008, d_cutoff=2*radius)"
   ]
  },
  {
   "cell_type": "markdown",
   "metadata": {},
   "source": [
    "Plot red and blue circles, making sure each is the correct size."
   ]
  },
  {
   "cell_type": "code",
   "execution_count": 16,
   "metadata": {},
   "outputs": [
    {
     "data": {
      "image/png": "[encoded data removed]",
      "text/plain": [
       "<Figure size 500x500 with 1 Axes>"
      ]
     },
     "metadata": {},
     "output_type": "display_data"
    }
   ],
   "source": [
    "fig, ax = plt.subplots(1,1,figsize=(5,5))\n",
    "xred, yred = rs[0][0][ixr], rs[0][1][ixr]\n",
    "xblue, yblue = rs[0][0][ixl],rs[0][1][ixl]\n",
    "circles_red = [plt.Circle((xi, yi), radius=radius, linewidth=0) for xi,yi in zip(xred,yred)]\n",
    "circles_blue = [plt.Circle((xi, yi), radius=radius, linewidth=0) for xi,yi in zip(xblue,yblue)]\n",
    "cred = matplotlib.collections.PatchCollection(circles_red, facecolors='red')\n",
    "cblue = matplotlib.collections.PatchCollection(circles_blue, facecolors='blue')\n",
    "ax.add_collection(cred)\n",
    "ax.add_collection(cblue)\n",
    "ax.set_xlim(0,1)\n",
    "ax.set_ylim(0,1)\n",
    "plt.show()"
   ]
  },
  {
   "cell_type": "markdown",
   "metadata": {},
   "source": [
    "Make initial animation of the simulation"
   ]
  },
  {
   "cell_type": "code",
   "execution_count": 17,
   "metadata": {},
   "outputs": [
    {
     "data": {
      "image/png": "[encoded data removed]",
      "text/plain": [
       "<Figure size 500x500 with 1 Axes>"
      ]
     },
     "metadata": {},
     "output_type": "display_data"
    }
   ],
   "source": [
    "fig, ax = plt.subplots(1,1,figsize=(5,5))\n",
    "ax.clear()\n",
    "vmin = 0\n",
    "vmax = 1\n",
    "ax.set_xlim(0,1)\n",
    "ax.set_ylim(0,1)\n",
    "markersize = 2 * radius * ax.get_window_extent().width  / (vmax-vmin) * 72./fig.dpi\n",
    "red, = ax.plot([], [], 'o', color='red', markersize=markersize)\n",
    "blue, = ax.plot([], [], 'o', color='blue', markersize=markersize)\n",
    "\n",
    "def animate(i):\n",
    "    xred, yred = rs[i][0][ixr].cpu(), rs[i][1][ixr].cpu()\n",
    "    xblue, yblue = rs[i][0][ixl].cpu(),rs[i][1][ixl].cpu()\n",
    "    red.set_data(xred, yred)\n",
    "    blue.set_data(xblue, yblue)\n",
    "    return red, blue\n",
    "\n",
    "writer = animation.FFMpegWriter(fps=30)\n",
    "ani = animation.FuncAnimation(fig, animate, frames=500, interval=50, blit=True)\n",
    "ani.save('ani3.mp4',writer=writer,dpi=100)"
   ]
  },
  {
   "cell_type": "markdown",
   "metadata": {},
   "source": [
    "Now that we're sure that it works, lets make a simulation containing many more particles"
   ]
  },
  {
   "cell_type": "code",
   "execution_count": null,
   "metadata": {},
   "outputs": [],
   "source": [
    "n_particles = 5000\n",
    "r = torch.rand((2,n_particles)).to(device)\n",
    "ixr = r[0]>0.5 \n",
    "ixl = r[0]<=0.5 \n",
    "ids = torch.arange(n_particles)\n",
    "ids_pairs = torch.combinations(ids,2).to(device)\n",
    "v = torch.zeros((2,n_particles)).to(device)\n",
    "v[0][ixr] = -500\n",
    "v[0][ixl] = 500\n",
    "radius = 0.0005\n",
    "rs, vs = motion(r, v, ids_pairs, ts=1000, dt=0.000008, d_cutoff=2*radius)"
   ]
  },
  {
   "cell_type": "markdown",
   "metadata": {},
   "source": [
    "Let's look at the final velocity distribution of the particles and compare it to Maxwell-Boltzmann in 2 Dimensions:\n",
    "\n",
    "* $kT = KE_{avg} = \\frac{1}{2}m\\bar{v^2} \\implies \\boxed{\\frac{m}{kT} = \\frac{2}{\\bar{v^2}}}$\n",
    "* $\\boxed{f(v) = \\frac{m}{kT} v \\exp\\left(-\\frac{m}{kT}\\frac{v^2}{2} \\right)}$"
   ]
  },
  {
   "cell_type": "code",
   "execution_count": null,
   "metadata": {},
   "outputs": [],
   "source": [
    "v = np.linspace(0, 2000, 1000)\n",
    "a = 2/500**2\n",
    "fv = a*v*np.exp(-a*v**2 / 2)"
   ]
  },
  {
   "cell_type": "markdown",
   "metadata": {},
   "source": [
    "Plot the final histogram next to this curve:"
   ]
  },
  {
   "cell_type": "code",
   "execution_count": null,
   "metadata": {},
   "outputs": [],
   "source": [
    "bins = np.linspace(0,1500,50)\n",
    "plt.figure()\n",
    "plt.hist(torch.sqrt(torch.sum(vs[-1]**2, axis=0)).cpu(), bins=bins, density=True)\n",
    "plt.plot(v,fv)\n",
    "plt.xlabel('Velocity [m/s]')\n",
    "plt.ylabel('# Particles')"
   ]
  },
  {
   "cell_type": "markdown",
   "metadata": {},
   "source": [
    "Finally, we can make an animation of the particles moving around and the histogram at the same time"
   ]
  },
  {
   "cell_type": "code",
   "execution_count": null,
   "metadata": {},
   "outputs": [],
   "source": [
    "fig, axes = plt.subplots(1, 2, figsize=(20,10))\n",
    "axes[0].clear()\n",
    "vmin = 0\n",
    "vmax = 1\n",
    "axes[0].set_xlim(0,1)\n",
    "axes[0].set_ylim(0,1)\n",
    "markersize = 2 * radius * axes[0].get_window_extent().width  / (vmax-vmin) * 72./fig.dpi\n",
    "red, = axes[0].plot([], [], 'o', color='red', markersize=markersize)\n",
    "blue, = axes[0].plot([], [], 'o', color='blue', markersize=markersize)\n",
    "n, bins, patches = axes[1].hist(torch.sqrt(torch.sum(vs[0]**2, axis=0)).cpu(), bins=bins, density=True)\n",
    "axes[1].plot(v,fv)\n",
    "axes[1].set_ylim(top=0.003)\n",
    "\n",
    "def animate(i):\n",
    "    xred, yred = rs[i][0][ixr].cpu(), rs[i][1][ixr].cpu()\n",
    "    xblue, yblue = rs[i][0][ixl].cpu(),rs[i][1][ixl].cpu()\n",
    "    red.set_data(xred, yred)\n",
    "    blue.set_data(xblue, yblue)\n",
    "    hist, _ = np.histogram(torch.sqrt(torch.sum(vs[i]**2, axis=0)).cpu(), bins=bins, density=True)\n",
    "    for i, patch in enumerate(patches):\n",
    "        patch.set_height(hist[i])\n",
    "    return red, blue\n",
    "\n",
    "writer = animation.FFMpegWriter(fps=30)\n",
    "ani = animation.FuncAnimation(fig, animate, frames=500, interval=50, blit=True)\n",
    "ani.save('ani_gpu_10000.mp4',writer=writer,dpi=100)"
   ]
  }
 ],
 "metadata": {
  "kernelspec": {
   "display_name": "Python 3 (ipykernel)",
   "language": "python",
   "name": "python3"
  },
  "language_info": {
   "codemirror_mode": {
    "name": "ipython",
    "version": 3
   },
   "file_extension": ".py",
   "mimetype": "text/x-python",
   "name": "python",
   "nbconvert_exporter": "python",
   "pygments_lexer": "ipython3",
   "version": "3.12.1"
  }
 },
 "nbformat": 4,
 "nbformat_minor": 4
}
