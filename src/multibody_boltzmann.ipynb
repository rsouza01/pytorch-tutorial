{
 "cells": [
  {
   "cell_type": "code",
   "execution_count": 2,
   "metadata": {},
   "outputs": [],
   "source": [
    "import torch\n",
    "import os\n",
    "import numpy as np\n",
    "import matplotlib.pyplot as plt\n",
    "import matplotlib\n",
    "from matplotlib import animation\n",
    "from matplotlib.animation import PillowWriter\n",
    "import scienceplots\n",
    "plt.style.use(['science', 'notebook'])\n",
    "device = torch.device('cuda' if torch.cuda.is_available() else 'cpu')"
   ]
  },
  {
   "cell_type": "markdown",
   "metadata": {},
   "source": [
    "Define number of particles and get random positions (between 0 and 1) for each particle"
   ]
  },
  {
   "cell_type": "code",
   "execution_count": 3,
   "metadata": {},
   "outputs": [],
   "source": [
    "n_particles = 16\n",
    "r = torch.rand((2,n_particles)).to(device)"
   ]
  },
  {
   "cell_type": "code",
   "execution_count": 4,
   "metadata": {},
   "outputs": [],
   "source": [
    "n_particles = 16\n",
    "r = torch.rand((2,n_particles)).to(device)\n",
    "# Color particles the start on either side\n",
    "ixr = r[0]>0.5 #right\n",
    "ixl = r[0]<=0.5 #left"
   ]
  },
  {
   "cell_type": "markdown",
   "metadata": {},
   "source": [
    "Give IDs to each particle (this will come in handy later)"
   ]
  },
  {
   "cell_type": "code",
   "execution_count": 5,
   "metadata": {},
   "outputs": [],
   "source": [
    "ids = torch.arange(n_particles)"
   ]
  },
  {
   "cell_type": "markdown",
   "metadata": {},
   "source": [
    "Plot initial configuration of particles"
   ]
  },
  {
   "cell_type": "code",
   "execution_count": 6,
   "metadata": {},
   "outputs": [
    {
     "data": {
      "text/plain": [
       "<matplotlib.collections.PathCollection at 0x2a63c945d20>"
      ]
     },
     "execution_count": 6,
     "metadata": {},
     "output_type": "execute_result"
    },
    {
     "data": {
      "image/png": "[encoded data removed]",
      "text/plain": [
       "<Figure size 500x500 with 1 Axes>"
      ]
     },
     "metadata": {},
     "output_type": "display_data"
    }
   ],
   "source": [
    "plt.figure(figsize=(5,5))\n",
    "plt.scatter(r[0][ixr].cpu(),r[1][ixr].cpu(), color='r', s=6)\n",
    "plt.scatter(r[0][ixl].cpu(),r[1][ixl].cpu(), color='b', s=6)"
   ]
  },
  {
   "cell_type": "markdown",
   "metadata": {},
   "source": [
    "Obtain the initial velocities in the gas. We'll make the particles starting on the RHS move to the left at 500m/s and on the vice versa.\n",
    "\n",
    "* **Note**: We're using the assumption that particles in a gas move at approximately 500m/s, thanks google."
   ]
  },
  {
   "cell_type": "code",
   "execution_count": 7,
   "metadata": {},
   "outputs": [],
   "source": [
    "v = torch.zeros((2,n_particles)).to(device)\n",
    "v[0][ixr] = -500\n",
    "v[0][ixl] = 500"
   ]
  },
  {
   "cell_type": "markdown",
   "metadata": {},
   "source": [
    "To run this simulation, we need to determine when two particles collide, and what the resulting final velocities will be.\n",
    "\n",
    "# Part 1: Distance Between all Pairs\n",
    "\n",
    "* To determine if two particles collide, we need to find the distance between **all pairs** of particles. If the distance is less than 2 times the radius of each particle, they collide. If there are $n$ particles, there are $n(n-1)/2$ pairs (combinatorics). To make this easier, we'll get pairs of particle IDs."
   ]
  },
  {
   "cell_type": "code",
   "execution_count": 8,
   "metadata": {},
   "outputs": [],
   "source": [
    "ids_pairs = torch.combinations(ids,2).to(device)\n",
    "#ids_pairs"
   ]
  },
  {
   "attachments": {},
   "cell_type": "markdown",
   "metadata": {},
   "source": [
    "We can obtain distances between particles in a similar fashion\n",
    "\n",
    "* First get the pairs of x-positions of all particles (**NOTE: THIS HAS BEEN UPDATED SINCE THE YOUTUBE VIDEO AND IS MUCH MORE EFFICIENT. THANK YOU TO @swni ON REDDIT FOR THE SUGGESTION**)"
   ]
  },
  {
   "cell_type": "code",
   "execution_count": 13,
   "metadata": {},
   "outputs": [
    {
     "data": {
      "text/plain": [
       "tensor([[0.0746, 0.3916],\n",
       "        [0.0746, 0.7289],\n",
       "        [0.0746, 0.1250],\n",
       "        [0.0746, 0.1400],\n",
       "        [0.0746, 0.1607],\n",
       "        [0.0746, 0.7731],\n",
       "        [0.0746, 0.0848],\n",
       "        [0.0746, 0.7578],\n",
       "        [0.0746, 0.0373],\n",
       "        [0.0746, 0.9635],\n",
       "        [0.0746, 0.2971],\n",
       "        [0.0746, 0.8649],\n",
       "        [0.0746, 0.3961],\n",
       "        [0.0746, 0.7957],\n",
       "        [0.0746, 0.2840],\n",
       "        [0.3916, 0.7289],\n",
       "        [0.3916, 0.1250],\n",
       "        [0.3916, 0.1400],\n",
       "        [0.3916, 0.1607],\n",
       "        [0.3916, 0.7731],\n",
       "        [0.3916, 0.0848],\n",
       "        [0.3916, 0.7578],\n",
       "        [0.3916, 0.0373],\n",
       "        [0.3916, 0.9635],\n",
       "        [0.3916, 0.2971],\n",
       "        [0.3916, 0.8649],\n",
       "        [0.3916, 0.3961],\n",
       "        [0.3916, 0.7957],\n",
       "        [0.3916, 0.2840],\n",
       "        [0.7289, 0.1250],\n",
       "        [0.7289, 0.1400],\n",
       "        [0.7289, 0.1607],\n",
       "        [0.7289, 0.7731],\n",
       "        [0.7289, 0.0848],\n",
       "        [0.7289, 0.7578],\n",
       "        [0.7289, 0.0373],\n",
       "        [0.7289, 0.9635],\n",
       "        [0.7289, 0.2971],\n",
       "        [0.7289, 0.8649],\n",
       "        [0.7289, 0.3961],\n",
       "        [0.7289, 0.7957],\n",
       "        [0.7289, 0.2840],\n",
       "        [0.1250, 0.1400],\n",
       "        [0.1250, 0.1607],\n",
       "        [0.1250, 0.7731],\n",
       "        [0.1250, 0.0848],\n",
       "        [0.1250, 0.7578],\n",
       "        [0.1250, 0.0373],\n",
       "        [0.1250, 0.9635],\n",
       "        [0.1250, 0.2971],\n",
       "        [0.1250, 0.8649],\n",
       "        [0.1250, 0.3961],\n",
       "        [0.1250, 0.7957],\n",
       "        [0.1250, 0.2840],\n",
       "        [0.1400, 0.1607],\n",
       "        [0.1400, 0.7731],\n",
       "        [0.1400, 0.0848],\n",
       "        [0.1400, 0.7578],\n",
       "        [0.1400, 0.0373],\n",
       "        [0.1400, 0.9635],\n",
       "        [0.1400, 0.2971],\n",
       "        [0.1400, 0.8649],\n",
       "        [0.1400, 0.3961],\n",
       "        [0.1400, 0.7957],\n",
       "        [0.1400, 0.2840],\n",
       "        [0.1607, 0.7731],\n",
       "        [0.1607, 0.0848],\n",
       "        [0.1607, 0.7578],\n",
       "        [0.1607, 0.0373],\n",
       "        [0.1607, 0.9635],\n",
       "        [0.1607, 0.2971],\n",
       "        [0.1607, 0.8649],\n",
       "        [0.1607, 0.3961],\n",
       "        [0.1607, 0.7957],\n",
       "        [0.1607, 0.2840],\n",
       "        [0.7731, 0.0848],\n",
       "        [0.7731, 0.7578],\n",
       "        [0.7731, 0.0373],\n",
       "        [0.7731, 0.9635],\n",
       "        [0.7731, 0.2971],\n",
       "        [0.7731, 0.8649],\n",
       "        [0.7731, 0.3961],\n",
       "        [0.7731, 0.7957],\n",
       "        [0.7731, 0.2840],\n",
       "        [0.0848, 0.7578],\n",
       "        [0.0848, 0.0373],\n",
       "        [0.0848, 0.9635],\n",
       "        [0.0848, 0.2971],\n",
       "        [0.0848, 0.8649],\n",
       "        [0.0848, 0.3961],\n",
       "        [0.0848, 0.7957],\n",
       "        [0.0848, 0.2840],\n",
       "        [0.7578, 0.0373],\n",
       "        [0.7578, 0.9635],\n",
       "        [0.7578, 0.2971],\n",
       "        [0.7578, 0.8649],\n",
       "        [0.7578, 0.3961],\n",
       "        [0.7578, 0.7957],\n",
       "        [0.7578, 0.2840],\n",
       "        [0.0373, 0.9635],\n",
       "        [0.0373, 0.2971],\n",
       "        [0.0373, 0.8649],\n",
       "        [0.0373, 0.3961],\n",
       "        [0.0373, 0.7957],\n",
       "        [0.0373, 0.2840],\n",
       "        [0.9635, 0.2971],\n",
       "        [0.9635, 0.8649],\n",
       "        [0.9635, 0.3961],\n",
       "        [0.9635, 0.7957],\n",
       "        [0.9635, 0.2840],\n",
       "        [0.2971, 0.8649],\n",
       "        [0.2971, 0.3961],\n",
       "        [0.2971, 0.7957],\n",
       "        [0.2971, 0.2840],\n",
       "        [0.8649, 0.3961],\n",
       "        [0.8649, 0.7957],\n",
       "        [0.8649, 0.2840],\n",
       "        [0.3961, 0.7957],\n",
       "        [0.3961, 0.2840],\n",
       "        [0.7957, 0.2840]], device='cuda:0')"
      ]
     },
     "execution_count": 13,
     "metadata": {},
     "output_type": "execute_result"
    }
   ],
   "source": [
    "x_pairs = torch.stack([r[0][ids_pairs[:,0]], r[0][ids_pairs[:,1]]]).T\n",
    "x_pairs"
   ]
  },
  {
   "cell_type": "markdown",
   "metadata": {},
   "source": [
    "* Then take the difference to get $\\Delta x_{ij}$ of all pairs"
   ]
  },
  {
   "cell_type": "code",
   "execution_count": 10,
   "metadata": {},
   "outputs": [
    {
     "data": {
      "text/plain": [
       "tensor([-0.0590,  0.0403,  0.6631,  0.2162,  0.6245,  0.2850,  0.6792,  0.0995,\n",
       "         0.4700,  0.5022,  0.2209,  0.6194,  0.2781,  0.1681,  0.3417,  0.0993,\n",
       "         0.7221,  0.2752,  0.6835,  0.3440,  0.7382,  0.1585,  0.5291,  0.5612,\n",
       "         0.2799,  0.6784,  0.3371,  0.2272,  0.4007,  0.6228,  0.1759,  0.5841,\n",
       "         0.2447,  0.6389,  0.0592,  0.4297,  0.4619,  0.1806,  0.5791,  0.2378,\n",
       "         0.1278,  0.3014, -0.4469, -0.0387, -0.3781,  0.0161, -0.5636, -0.1931,\n",
       "        -0.1609, -0.4422, -0.0437, -0.3850, -0.4950, -0.3214,  0.4083,  0.0689,\n",
       "         0.4630, -0.1167,  0.2539,  0.2860,  0.0047,  0.4032,  0.0619, -0.0480,\n",
       "         0.1255, -0.3394,  0.0548, -0.5250, -0.1544, -0.1223, -0.4036, -0.0050,\n",
       "        -0.3464, -0.4563, -0.2828,  0.3942, -0.1855,  0.1850,  0.2172, -0.0641,\n",
       "         0.3344, -0.0069, -0.1169,  0.0567, -0.5797, -0.2092, -0.1770, -0.4583,\n",
       "        -0.0598, -0.4011, -0.5111, -0.3375,  0.3705,  0.4027,  0.1214,  0.5199,\n",
       "         0.1786,  0.0686,  0.2422,  0.0322, -0.2491,  0.1494, -0.1919, -0.3019,\n",
       "        -0.1284, -0.2813,  0.1172, -0.2241, -0.3341, -0.1605,  0.3985,  0.0572,\n",
       "        -0.0528,  0.1208, -0.3413, -0.4513, -0.2777, -0.1100,  0.0636,  0.1735],\n",
       "       device='cuda:0')"
      ]
     },
     "execution_count": 10,
     "metadata": {},
     "output_type": "execute_result"
    }
   ],
   "source": [
    "dx_pairs = torch.diff(x_pairs, axis=1).ravel()\n",
    "dx_pairs"
   ]
  },
  {
   "cell_type": "markdown",
   "metadata": {},
   "source": [
    "The total distance is just $d_{ij}= \\sqrt{\\Delta x_{ij}^2 + \\Delta y_{ij}^2}$. Since there are $n(n-1)/2$ pairs, there will be $n(n-1)/2$ different values of $d_{ij}$."
   ]
  },
  {
   "cell_type": "code",
   "execution_count": 14,
   "metadata": {},
   "outputs": [
    {
     "data": {
      "text/plain": [
       "tensor([0.3188, 0.6695, 0.2086, 0.2592, 0.1667, 0.9753, 0.2142, 0.7086, 0.6329,\n",
       "        0.8924, 0.6791, 0.8355, 0.7782, 0.9695, 0.2270, 0.3804, 0.3154, 0.3799,\n",
       "        0.2907, 0.7509, 0.3943, 0.4283, 0.6951, 0.5830, 0.6152, 0.5294, 0.6749,\n",
       "        0.7352, 0.1623, 0.6952, 0.5989, 0.5682, 0.8239, 0.6480, 0.0544, 1.0379,\n",
       "        0.2429, 0.8949, 0.4348, 0.9136, 0.7930, 0.4482, 0.4535, 0.3471, 0.8055,\n",
       "        0.4182, 0.7436, 0.4383, 0.8846, 0.4718, 0.7431, 0.5743, 0.8052, 0.3308,\n",
       "        0.1100, 1.1263, 0.0664, 0.6210, 0.8886, 0.8412, 0.9062, 0.8932, 0.9932,\n",
       "        1.1126, 0.2176, 1.0262, 0.1039, 0.5988, 0.7844, 0.8054, 0.7963, 0.8168,\n",
       "        0.8835, 1.0143, 0.1351, 1.1287, 0.8690, 0.7374, 0.7834, 0.4777, 0.4199,\n",
       "        0.3781, 0.0396, 0.9108, 0.6735, 0.8471, 0.8890, 0.8815, 0.9185, 0.9737,\n",
       "        1.1173, 0.2358, 1.0916, 0.2328, 0.9492, 0.4715, 0.9672, 0.8371, 0.4843,\n",
       "        1.1677, 0.2599, 0.9029, 0.3669, 0.7585, 0.7607, 0.9818, 0.3638, 0.9711,\n",
       "        0.7465, 0.6796, 0.6782, 0.1196, 0.4986, 0.7295, 0.6415, 0.3835, 0.6827,\n",
       "        0.4042, 0.8043, 0.8962], device='cuda:0')"
      ]
     },
     "execution_count": 14,
     "metadata": {},
     "output_type": "execute_result"
    }
   ],
   "source": [
    "x_pairs = torch.stack([r[0][ids_pairs[:,0]], r[0][ids_pairs[:,1]]]).T\n",
    "y_pairs = torch.stack([r[1][ids_pairs[:,0]], r[1][ids_pairs[:,1]]]).T\n",
    "dx_pairs = torch.diff(x_pairs, axis=1).ravel()\n",
    "dy_pairs = torch.diff(y_pairs, axis=1).ravel()\n",
    "d_pairs = torch.sqrt(dx_pairs**2 + dy_pairs**2)\n",
    "d_pairs"
   ]
  },
  {
   "cell_type": "markdown",
   "metadata": {},
   "source": [
    "# Part 2: Velocities of a Collision"
   ]
  },
  {
   "cell_type": "markdown",
   "metadata": {},
   "source": [
    "So at each iteration of the simulation, we will evaluate `d_pairs`, and if any of the distances between particles is less than $2r$, then a collision occurs. What is the final velocity of each of the two spheres? In an elastic collision (conservation of energy + momentum + angular momentum), one can show\n",
    "\n",
    "$$\\vec{v}_1^{\\text{new}} = \\vec{v}_1 - \\frac{(\\vec{v}_1 - \\vec{v}_2) \\cdot (\\vec{r}_1 - \\vec{r}_2)}{|\\vec{r}_1 - \\vec{r}_2|^2} (\\vec{r}_1 - \\vec{r}_2)$$\n",
    "$$\\vec{v}_2^{\\text{new}} = \\vec{v}_2 - \\frac{(\\vec{v}_2 - \\vec{v}_1) \\cdot (\\vec{r}_2 - \\vec{r}_1)}{|\\vec{r}_1 - \\vec{r}_2|^2} (\\vec{r}_2 - \\vec{r}_1)$$"
   ]
  },
  {
   "cell_type": "code",
   "execution_count": 15,
   "metadata": {},
   "outputs": [
    {
     "data": {
      "text/plain": [
       "tensor([[ 2,  8],\n",
       "        [ 4,  5],\n",
       "        [ 4,  7],\n",
       "        [ 5,  7],\n",
       "        [ 6, 14],\n",
       "        [11, 13]], device='cuda:0')"
      ]
     },
     "execution_count": 15,
     "metadata": {},
     "output_type": "execute_result"
    }
   ],
   "source": [
    "radius = 0.06\n",
    "ids_pairs_collide = ids_pairs[d_pairs < 2*radius]\n",
    "ids_pairs_collide"
   ]
  },
  {
   "cell_type": "markdown",
   "metadata": {},
   "source": [
    "We will call all the particles in the left column \"1\" and the right column \"2\""
   ]
  },
  {
   "cell_type": "code",
   "execution_count": 16,
   "metadata": {},
   "outputs": [],
   "source": [
    "v1 = v[:,ids_pairs_collide[:,0]]\n",
    "v2 = v[:,ids_pairs_collide[:,1]]\n",
    "r1 = r[:,ids_pairs_collide[:,0]]\n",
    "r2 = r[:,ids_pairs_collide[:,1]]"
   ]
  },
  {
   "cell_type": "markdown",
   "metadata": {},
   "source": [
    "Then we can compute the new velocity:"
   ]
  },
  {
   "cell_type": "code",
   "execution_count": 17,
   "metadata": {},
   "outputs": [],
   "source": [
    "v1new = v1 - torch.sum((v1-v2)*(r1-r2), axis=0)/torch.sum((r1-r2)**2, axis=0) * (r1-r2)\n",
    "v2new = v2 - torch.sum((v1-v2)*(r1-r2), axis=0)/torch.sum((r2-r1)**2, axis=0) * (r2-r1)"
   ]
  },
  {
   "cell_type": "markdown",
   "metadata": {},
   "source": [
    "# Part 3: Functions to Run the Simulation"
   ]
  },
  {
   "cell_type": "markdown",
   "metadata": {},
   "source": [
    "Here we define some functions that will help make running the simulation easier."
   ]
  },
  {
   "cell_type": "code",
   "execution_count": 23,
   "metadata": {},
   "outputs": [],
   "source": [
    "def get_deltad2_pairs(r, ids_pairs):\n",
    "    dx = torch.diff(torch.stack([r[0][ids_pairs[:,0]], r[0][ids_pairs[:,1]]]).T).squeeze()\n",
    "    dy = torch.diff(torch.stack([r[1][ids_pairs[:,0]], r[1][ids_pairs[:,1]]]).T).squeeze()\n",
    "    return dx**2 + dy**2\n",
    "\n",
    "def compute_new_v(v1, v2, r1, r2):\n",
    "    v1new = v1 - torch.sum((v1-v2)*(r1-r2), axis=0)/torch.sum((r1-r2)**2, axis=0) * (r1-r2)\n",
    "    v2new = v2 - torch.sum((v1-v2)*(r1-r2), axis=0)/torch.sum((r2-r1)**2, axis=0) * (r2-r1)\n",
    "    return v1new, v2new\n",
    "\n",
    "def motion(r, v, id_pairs, ts, dt, d_cutoff):\n",
    "    rs = torch.zeros((ts, r.shape[0], r.shape[1])).to(device)\n",
    "    vs = torch.zeros((ts, v.shape[0], v.shape[1])).to(device)\n",
    "    # Initial State\n",
    "    rs[0] = r\n",
    "    vs[0] = v\n",
    "    for i in range(1,ts):\n",
    "        ic = id_pairs[get_deltad2_pairs(r, ids_pairs) < d_cutoff**2]\n",
    "        v[:,ic[:,0]], v[:,ic[:,1]] = compute_new_v(v[:,ic[:,0]], v[:,ic[:,1]], r[:,ic[:,0]], r[:,ic[:,1]])\n",
    "        \n",
    "        v[0,r[0]>1] = -torch.abs(v[0,r[0]>1])\n",
    "        v[0,r[0]<0] = torch.abs(v[0,r[0]<0])\n",
    "        v[1,r[1]>1] = -torch.abs(v[1,r[1]>1])\n",
    "        v[1,r[1]<0] = torch.abs(v[1,r[1]<0])\n",
    "        \n",
    "        r = r + v*dt\n",
    "        rs[i] = r\n",
    "        vs[i] = v\n",
    "    return rs, vs"
   ]
  },
  {
   "cell_type": "markdown",
   "metadata": {},
   "source": [
    "Set the radius and find the position of all particles as a function of time (3D array `rs` where each axis is $(t,x,y)$)."
   ]
  },
  {
   "cell_type": "code",
   "execution_count": 24,
   "metadata": {},
   "outputs": [],
   "source": [
    "radius = 0.03\n",
    "rs, vs = motion(r, v, ids_pairs, ts=1000, dt=0.000008, d_cutoff=2*radius)"
   ]
  },
  {
   "cell_type": "markdown",
   "metadata": {},
   "source": [
    "Plot red and blue circles, making sure each is the correct size."
   ]
  },
  {
   "cell_type": "code",
   "execution_count": 20,
   "metadata": {},
   "outputs": [
    {
     "data": {
      "image/png": "[encoded data removed]",
      "text/plain": [
       "<Figure size 500x500 with 1 Axes>"
      ]
     },
     "metadata": {},
     "output_type": "display_data"
    }
   ],
   "source": [
    "fig, ax = plt.subplots(1,1,figsize=(5,5))\n",
    "xred, yred = rs[0][0][ixr], rs[0][1][ixr]\n",
    "xblue, yblue = rs[0][0][ixl],rs[0][1][ixl]\n",
    "circles_red = [plt.Circle((xi, yi), radius=radius, linewidth=0) for xi,yi in zip(xred,yred)]\n",
    "circles_blue = [plt.Circle((xi, yi), radius=radius, linewidth=0) for xi,yi in zip(xblue,yblue)]\n",
    "cred = matplotlib.collections.PatchCollection(circles_red, facecolors='red')\n",
    "cblue = matplotlib.collections.PatchCollection(circles_blue, facecolors='blue')\n",
    "ax.add_collection(cred)\n",
    "ax.add_collection(cblue)\n",
    "ax.set_xlim(0,1)\n",
    "ax.set_ylim(0,1)\n",
    "plt.show()"
   ]
  },
  {
   "cell_type": "markdown",
   "metadata": {},
   "source": [
    "Make initial animation of the simulation"
   ]
  },
  {
   "cell_type": "code",
   "execution_count": null,
   "metadata": {},
   "outputs": [],
   "source": [
    "fig, ax = plt.subplots(1,1,figsize=(5,5))\n",
    "ax.clear()\n",
    "vmin = 0\n",
    "vmax = 1\n",
    "ax.set_xlim(0,1)\n",
    "ax.set_ylim(0,1)\n",
    "markersize = 2 * radius * ax.get_window_extent().width  / (vmax-vmin) * 72./fig.dpi\n",
    "red, = ax.plot([], [], 'o', color='red', markersize=markersize)\n",
    "blue, = ax.plot([], [], 'o', color='blue', markersize=markersize)\n",
    "\n",
    "def animate(i):\n",
    "    xred, yred = rs[i][0][ixr].cpu(), rs[i][1][ixr].cpu()\n",
    "    xblue, yblue = rs[i][0][ixl].cpu(),rs[i][1][ixl].cpu()\n",
    "    red.set_data(xred, yred)\n",
    "    blue.set_data(xblue, yblue)\n",
    "    return red, blue\n",
    "\n",
    "writer = animation.FFMpegWriter(fps=30)\n",
    "ani = animation.FuncAnimation(fig, animate, frames=500, interval=50, blit=True)\n",
    "ani.save('ani3.mp4',writer=writer,dpi=100)"
   ]
  },
  {
   "cell_type": "markdown",
   "metadata": {},
   "source": [
    "Now that we're sure that it works, lets make a simulation containing many more particles"
   ]
  },
  {
   "cell_type": "code",
   "execution_count": 29,
   "metadata": {},
   "outputs": [],
   "source": [
    "n_particles = 5000\n",
    "r = torch.rand((2,n_particles)).to(device)\n",
    "ixr = r[0]>0.5 \n",
    "ixl = r[0]<=0.5 \n",
    "ids = torch.arange(n_particles)\n",
    "ids_pairs = torch.combinations(ids,2).to(device)\n",
    "v = torch.zeros((2,n_particles)).to(device)\n",
    "v[0][ixr] = -500\n",
    "v[0][ixl] = 500\n",
    "radius = 0.0005\n",
    "rs, vs = motion(r, v, ids_pairs, ts=1000, dt=0.000008, d_cutoff=2*radius)"
   ]
  },
  {
   "cell_type": "markdown",
   "metadata": {},
   "source": [
    "Let's look at the final velocity distribution of the particles and compare it to Maxwell-Boltzmann in 2 Dimensions:\n",
    "\n",
    "* $kT = KE_{avg} = \\frac{1}{2}m\\bar{v^2} \\implies \\boxed{\\frac{m}{kT} = \\frac{2}{\\bar{v^2}}}$\n",
    "* $\\boxed{f(v) = \\frac{m}{kT} v \\exp\\left(-\\frac{m}{kT}\\frac{v^2}{2} \\right)}$"
   ]
  },
  {
   "cell_type": "code",
   "execution_count": 30,
   "metadata": {},
   "outputs": [],
   "source": [
    "v = np.linspace(0, 2000, 1000)\n",
    "a = 2/500**2\n",
    "fv = a*v*np.exp(-a*v**2 / 2)"
   ]
  },
  {
   "cell_type": "markdown",
   "metadata": {},
   "source": [
    "Plot the final histogram next to this curve:"
   ]
  },
  {
   "cell_type": "code",
   "execution_count": 31,
   "metadata": {},
   "outputs": [
    {
     "data": {
      "text/plain": [
       "Text(0, 0.5, '# Particles')"
      ]
     },
     "execution_count": 31,
     "metadata": {},
     "output_type": "execute_result"
    },
    {
     "data": {
      "image/png": "[encoded data removed]",
      "text/plain": [
       "<Figure size 800x600 with 1 Axes>"
      ]
     },
     "metadata": {},
     "output_type": "display_data"
    }
   ],
   "source": [
    "bins = np.linspace(0,1500,50)\n",
    "plt.figure()\n",
    "plt.hist(torch.sqrt(torch.sum(vs[-1]**2, axis=0)).cpu(), bins=bins, density=True)\n",
    "plt.plot(v,fv)\n",
    "plt.xlabel('Velocity [m/s]')\n",
    "plt.ylabel('# Particles')"
   ]
  },
  {
   "cell_type": "markdown",
   "metadata": {},
   "source": [
    "Finally, we can make an animation of the particles moving around and the histogram at the same time"
   ]
  },
  {
   "cell_type": "code",
   "execution_count": null,
   "metadata": {},
   "outputs": [],
   "source": [
    "fig, axes = plt.subplots(1, 2, figsize=(20,10))\n",
    "axes[0].clear()\n",
    "vmin = 0\n",
    "vmax = 1\n",
    "axes[0].set_xlim(0,1)\n",
    "axes[0].set_ylim(0,1)\n",
    "markersize = 2 * radius * axes[0].get_window_extent().width  / (vmax-vmin) * 72./fig.dpi\n",
    "red, = axes[0].plot([], [], 'o', color='red', markersize=markersize)\n",
    "blue, = axes[0].plot([], [], 'o', color='blue', markersize=markersize)\n",
    "n, bins, patches = axes[1].hist(torch.sqrt(torch.sum(vs[0]**2, axis=0)).cpu(), bins=bins, density=True)\n",
    "axes[1].plot(v,fv)\n",
    "axes[1].set_ylim(top=0.003)\n",
    "\n",
    "def animate(i):\n",
    "    xred, yred = rs[i][0][ixr].cpu(), rs[i][1][ixr].cpu()\n",
    "    xblue, yblue = rs[i][0][ixl].cpu(),rs[i][1][ixl].cpu()\n",
    "    red.set_data(xred, yred)\n",
    "    blue.set_data(xblue, yblue)\n",
    "    hist, _ = np.histogram(torch.sqrt(torch.sum(vs[i]**2, axis=0)).cpu(), bins=bins, density=True)\n",
    "    for i, patch in enumerate(patches):\n",
    "        patch.set_height(hist[i])\n",
    "    return red, blue\n",
    "\n",
    "writer = animation.FFMpegWriter(fps=30)\n",
    "ani = animation.FuncAnimation(fig, animate, frames=500, interval=50, blit=True)\n",
    "ani.save('ani_gpu_10000.mp4',writer=writer,dpi=100)"
   ]
  }
 ],
 "metadata": {
  "kernelspec": {
   "display_name": "Python 3",
   "language": "python",
   "name": "python3"
  },
  "language_info": {
   "codemirror_mode": {
    "name": "ipython",
    "version": 3
   },
   "file_extension": ".py",
   "mimetype": "text/x-python",
   "name": "python",
   "nbconvert_exporter": "python",
   "pygments_lexer": "ipython3",
   "version": "3.10.9"
  }
 },
 "nbformat": 4,
 "nbformat_minor": 4
}
