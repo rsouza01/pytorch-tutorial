{
 "cells": [
  {
   "cell_type": "markdown",
   "id": "3ab38495-1870-46ad-a032-ea6467e8ede8",
   "metadata": {},
   "source": [
    "# GPU-Billiard Balls and the Boltzmann Distribution in Python\n",
    "\n",
    "\n",
    "Source video: http://youtube.com/watch?v=iSEAidM-DDI\n",
    "\n",
    "Source code: https://github.com/lukepolson/youtube_channel/blob/main/Python%20GPU/multibody_boltzmann.ipynb"
   ]
  },
  {
   "cell_type": "code",
   "execution_count": 7,
   "id": "85a432df-7a02-4728-84ce-cabe62fbcba0",
   "metadata": {},
   "outputs": [],
   "source": [
    "import torch\n",
    "import os\n",
    "import numpy as np\n",
    "import matplotlib.pyplot as plt\n",
    "import matplotlib\n",
    "from matplotlib import animation\n",
    "from matplotlib.animation import PillowWriter\n",
    "import scienceplots\n",
    "plt.style.use(['science', 'notebook'])\n",
    "device = torch.device('cuda' if torch.cuda.is_available() else 'cpu')"
   ]
  },
  {
   "cell_type": "code",
   "execution_count": 8,
   "id": "2734241a-30fe-4328-9fde-0ac86029386c",
   "metadata": {},
   "outputs": [],
   "source": [
    "# Initial conditions\n",
    "n_particles = 16\n",
    "r = torch.rand((2,n_particles)).to(device)\n",
    "\n",
    "# Color particles the start on either side\n",
    "ixr = r[0] >  0.5 #right\n",
    "ixl = r[0] <= 0.5 #left"
   ]
  },
  {
   "cell_type": "code",
   "execution_count": 9,
   "id": "bf8cf7f6-4f72-4740-ae10-b7cede1323a2",
   "metadata": {},
   "outputs": [],
   "source": [
    "# ids are tensors, which live on the graphics card\n",
    "ids = torch.arange(n_particles)"
   ]
  },
  {
   "cell_type": "code",
   "execution_count": 10,
   "id": "145077eb-7722-477a-8761-3db5d604daaa",
   "metadata": {},
   "outputs": [
    {
     "data": {
      "text/plain": [
       "<matplotlib.collections.PathCollection at 0x7f95af74c2d0>"
      ]
     },
     "execution_count": 10,
     "metadata": {},
     "output_type": "execute_result"
    },
    {
     "data": {
      "image/png": "[encoded data removed]",
      "text/plain": [
       "<Figure size 500x500 with 1 Axes>"
      ]
     },
     "metadata": {},
     "output_type": "display_data"
    }
   ],
   "source": [
    "plt.figure(figsize=(5,5))\n",
    "plt.scatter(r[0][ixr].cpu(),r[1][ixr].cpu(), color='r', s=6)\n",
    "plt.scatter(r[0][ixl].cpu(),r[1][ixl].cpu(), color='b', s=6)"
   ]
  },
  {
   "cell_type": "code",
   "execution_count": 11,
   "id": "a0a61793-06a2-46de-990d-c30fdf64a2ad",
   "metadata": {},
   "outputs": [],
   "source": [
    "v = torch.zeros((2,n_particles)).to(device)\n",
    "v[0][ixr] = -500\n",
    "v[0][ixl] = 500"
   ]
  },
  {
   "cell_type": "markdown",
   "id": "33cf5bc5-e04d-489f-9da7-8ca06d8b3c19",
   "metadata": {},
   "source": [
    "# Part 1: Distance Between all Pairs"
   ]
  },
  {
   "cell_type": "code",
   "execution_count": 12,
   "id": "518b7f7d-9a2e-4489-a9db-68e044639b30",
   "metadata": {},
   "outputs": [],
   "source": [
    "ids_pairs = torch.combinations(ids,2).to(device)"
   ]
  },
  {
   "cell_type": "code",
   "execution_count": null,
   "id": "5fc80c1c-5fa2-47fa-ac5a-7bedbe286da3",
   "metadata": {},
   "outputs": [],
   "source": []
  }
 ],
 "metadata": {
  "kernelspec": {
   "display_name": "Python 3 (ipykernel)",
   "language": "python",
   "name": "python3"
  },
  "language_info": {
   "codemirror_mode": {
    "name": "ipython",
    "version": 3
   },
   "file_extension": ".py",
   "mimetype": "text/x-python",
   "name": "python",
   "nbconvert_exporter": "python",
   "pygments_lexer": "ipython3",
   "version": "3.13.7"
  }
 },
 "nbformat": 4,
 "nbformat_minor": 5
}
