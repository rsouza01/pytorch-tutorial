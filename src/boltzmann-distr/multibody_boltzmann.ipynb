{
 "cells": [
  {
   "cell_type": "code",
   "execution_count": 18,
   "metadata": {},
   "outputs": [],
   "source": [
    "import torch\n",
    "import os\n",
    "import numpy as np\n",
    "import matplotlib.pyplot as plt\n",
    "import matplotlib\n",
    "from matplotlib import animation\n",
    "from matplotlib.animation import PillowWriter\n",
    "# import scienceplots\n",
    "# plt.style.use(['science', 'notebook'])\n",
    "device = torch.device('cuda' if torch.cuda.is_available() else 'cpu')"
   ]
  },
  {
   "cell_type": "markdown",
   "metadata": {},
   "source": [
    "Define number of particles and get random positions (between 0 and 1) for each particle"
   ]
  },
  {
   "cell_type": "code",
   "execution_count": 19,
   "metadata": {},
   "outputs": [],
   "source": [
    "n_particles = 16\n",
    "r = torch.rand((2,n_particles)).to(device)"
   ]
  },
  {
   "cell_type": "code",
   "execution_count": 20,
   "metadata": {},
   "outputs": [],
   "source": [
    "n_particles = 16\n",
    "r = torch.rand((2,n_particles)).to(device)\n",
    "# Color particles the start on either side\n",
    "ixr = r[0]>0.5 #right\n",
    "ixl = r[0]<=0.5 #left"
   ]
  },
  {
   "cell_type": "markdown",
   "metadata": {},
   "source": [
    "Give IDs to each particle (this will come in handy later)"
   ]
  },
  {
   "cell_type": "code",
   "execution_count": 21,
   "metadata": {},
   "outputs": [],
   "source": [
    "ids = torch.arange(n_particles)"
   ]
  },
  {
   "cell_type": "markdown",
   "metadata": {},
   "source": [
    "Plot initial configuration of particles"
   ]
  },
  {
   "cell_type": "code",
   "execution_count": 22,
   "metadata": {},
   "outputs": [
    {
     "data": {
      "text/plain": [
       "<matplotlib.collections.PathCollection at 0x11ea0f390>"
      ]
     },
     "execution_count": 22,
     "metadata": {},
     "output_type": "execute_result"
    },
    {
     "data": {
      "image/png": "[encoded data removed]",
      "text/plain": [
       "<Figure size 500x500 with 1 Axes>"
      ]
     },
     "metadata": {},
     "output_type": "display_data"
    }
   ],
   "source": [
    "plt.figure(figsize=(5,5))\n",
    "plt.scatter(r[0][ixr].cpu(),r[1][ixr].cpu(), color='r', s=6)\n",
    "plt.scatter(r[0][ixl].cpu(),r[1][ixl].cpu(), color='b', s=6)"
   ]
  },
  {
   "cell_type": "markdown",
   "metadata": {},
   "source": [
    "Obtain the initial velocities in the gas. We'll make the particles starting on the RHS move to the left at 500m/s and on the vice versa.\n",
    "\n",
    "* **Note**: We're using the assumption that particles in a gas move at approximately 500m/s, thanks google."
   ]
  },
  {
   "cell_type": "code",
   "execution_count": 23,
   "metadata": {},
   "outputs": [],
   "source": [
    "v = torch.zeros((2,n_particles)).to(device)\n",
    "v[0][ixr] = -500\n",
    "v[0][ixl] = 500"
   ]
  },
  {
   "cell_type": "markdown",
   "metadata": {},
   "source": [
    "To run this simulation, we need to determine when two particles collide, and what the resulting final velocities will be.\n",
    "\n",
    "# Part 1: Distance Between all Pairs\n",
    "\n",
    "* To determine if two particles collide, we need to find the distance between **all pairs** of particles. If the distance is less than 2 times the radius of each particle, they collide. If there are $n$ particles, there are $n(n-1)/2$ pairs (combinatorics). To make this easier, we'll get pairs of particle IDs."
   ]
  },
  {
   "cell_type": "code",
   "execution_count": 24,
   "metadata": {},
   "outputs": [],
   "source": [
    "ids_pairs = torch.combinations(ids,2).to(device)\n",
    "#ids_pairs"
   ]
  },
  {
   "attachments": {},
   "cell_type": "markdown",
   "metadata": {},
   "source": [
    "We can obtain distances between particles in a similar fashion\n",
    "\n",
    "* First get the pairs of x-positions of all particles (**NOTE: THIS HAS BEEN UPDATED SINCE THE YOUTUBE VIDEO AND IS MUCH MORE EFFICIENT. THANK YOU TO @swni ON REDDIT FOR THE SUGGESTION**)"
   ]
  },
  {
   "cell_type": "code",
   "execution_count": 25,
   "metadata": {},
   "outputs": [
    {
     "data": {
      "text/plain": [
       "tensor([[0.3418, 0.3525],\n",
       "        [0.3418, 0.9399],\n",
       "        [0.3418, 0.4236],\n",
       "        [0.3418, 0.7624],\n",
       "        [0.3418, 0.4992],\n",
       "        [0.3418, 0.3475],\n",
       "        [0.3418, 0.1621],\n",
       "        [0.3418, 0.8914],\n",
       "        [0.3418, 0.3771],\n",
       "        [0.3418, 0.6128],\n",
       "        [0.3418, 0.7792],\n",
       "        [0.3418, 0.1014],\n",
       "        [0.3418, 0.4121],\n",
       "        [0.3418, 0.5957],\n",
       "        [0.3418, 0.6381],\n",
       "        [0.3525, 0.9399],\n",
       "        [0.3525, 0.4236],\n",
       "        [0.3525, 0.7624],\n",
       "        [0.3525, 0.4992],\n",
       "        [0.3525, 0.3475],\n",
       "        [0.3525, 0.1621],\n",
       "        [0.3525, 0.8914],\n",
       "        [0.3525, 0.3771],\n",
       "        [0.3525, 0.6128],\n",
       "        [0.3525, 0.7792],\n",
       "        [0.3525, 0.1014],\n",
       "        [0.3525, 0.4121],\n",
       "        [0.3525, 0.5957],\n",
       "        [0.3525, 0.6381],\n",
       "        [0.9399, 0.4236],\n",
       "        [0.9399, 0.7624],\n",
       "        [0.9399, 0.4992],\n",
       "        [0.9399, 0.3475],\n",
       "        [0.9399, 0.1621],\n",
       "        [0.9399, 0.8914],\n",
       "        [0.9399, 0.3771],\n",
       "        [0.9399, 0.6128],\n",
       "        [0.9399, 0.7792],\n",
       "        [0.9399, 0.1014],\n",
       "        [0.9399, 0.4121],\n",
       "        [0.9399, 0.5957],\n",
       "        [0.9399, 0.6381],\n",
       "        [0.4236, 0.7624],\n",
       "        [0.4236, 0.4992],\n",
       "        [0.4236, 0.3475],\n",
       "        [0.4236, 0.1621],\n",
       "        [0.4236, 0.8914],\n",
       "        [0.4236, 0.3771],\n",
       "        [0.4236, 0.6128],\n",
       "        [0.4236, 0.7792],\n",
       "        [0.4236, 0.1014],\n",
       "        [0.4236, 0.4121],\n",
       "        [0.4236, 0.5957],\n",
       "        [0.4236, 0.6381],\n",
       "        [0.7624, 0.4992],\n",
       "        [0.7624, 0.3475],\n",
       "        [0.7624, 0.1621],\n",
       "        [0.7624, 0.8914],\n",
       "        [0.7624, 0.3771],\n",
       "        [0.7624, 0.6128],\n",
       "        [0.7624, 0.7792],\n",
       "        [0.7624, 0.1014],\n",
       "        [0.7624, 0.4121],\n",
       "        [0.7624, 0.5957],\n",
       "        [0.7624, 0.6381],\n",
       "        [0.4992, 0.3475],\n",
       "        [0.4992, 0.1621],\n",
       "        [0.4992, 0.8914],\n",
       "        [0.4992, 0.3771],\n",
       "        [0.4992, 0.6128],\n",
       "        [0.4992, 0.7792],\n",
       "        [0.4992, 0.1014],\n",
       "        [0.4992, 0.4121],\n",
       "        [0.4992, 0.5957],\n",
       "        [0.4992, 0.6381],\n",
       "        [0.3475, 0.1621],\n",
       "        [0.3475, 0.8914],\n",
       "        [0.3475, 0.3771],\n",
       "        [0.3475, 0.6128],\n",
       "        [0.3475, 0.7792],\n",
       "        [0.3475, 0.1014],\n",
       "        [0.3475, 0.4121],\n",
       "        [0.3475, 0.5957],\n",
       "        [0.3475, 0.6381],\n",
       "        [0.1621, 0.8914],\n",
       "        [0.1621, 0.3771],\n",
       "        [0.1621, 0.6128],\n",
       "        [0.1621, 0.7792],\n",
       "        [0.1621, 0.1014],\n",
       "        [0.1621, 0.4121],\n",
       "        [0.1621, 0.5957],\n",
       "        [0.1621, 0.6381],\n",
       "        [0.8914, 0.3771],\n",
       "        [0.8914, 0.6128],\n",
       "        [0.8914, 0.7792],\n",
       "        [0.8914, 0.1014],\n",
       "        [0.8914, 0.4121],\n",
       "        [0.8914, 0.5957],\n",
       "        [0.8914, 0.6381],\n",
       "        [0.3771, 0.6128],\n",
       "        [0.3771, 0.7792],\n",
       "        [0.3771, 0.1014],\n",
       "        [0.3771, 0.4121],\n",
       "        [0.3771, 0.5957],\n",
       "        [0.3771, 0.6381],\n",
       "        [0.6128, 0.7792],\n",
       "        [0.6128, 0.1014],\n",
       "        [0.6128, 0.4121],\n",
       "        [0.6128, 0.5957],\n",
       "        [0.6128, 0.6381],\n",
       "        [0.7792, 0.1014],\n",
       "        [0.7792, 0.4121],\n",
       "        [0.7792, 0.5957],\n",
       "        [0.7792, 0.6381],\n",
       "        [0.1014, 0.4121],\n",
       "        [0.1014, 0.5957],\n",
       "        [0.1014, 0.6381],\n",
       "        [0.4121, 0.5957],\n",
       "        [0.4121, 0.6381],\n",
       "        [0.5957, 0.6381]])"
      ]
     },
     "execution_count": 25,
     "metadata": {},
     "output_type": "execute_result"
    }
   ],
   "source": [
    "x_pairs = torch.stack([r[0][ids_pairs[:,0]], r[0][ids_pairs[:,1]]]).T\n",
    "x_pairs"
   ]
  },
  {
   "cell_type": "markdown",
   "metadata": {},
   "source": [
    "* Then take the difference to get $\\Delta x_{ij}$ of all pairs"
   ]
  },
  {
   "cell_type": "code",
   "execution_count": 26,
   "metadata": {},
   "outputs": [
    {
     "data": {
      "text/plain": [
       "tensor([ 0.0107,  0.5982,  0.0819,  0.4206,  0.1575,  0.0057, -0.1797,  0.5497,\n",
       "         0.0354,  0.2711,  0.4374, -0.2404,  0.0704,  0.2540,  0.2963,  0.5874,\n",
       "         0.0711,  0.4099,  0.1467, -0.0050, -0.1904,  0.5389,  0.0246,  0.2603,\n",
       "         0.4267, -0.2511,  0.0596,  0.2432,  0.2856, -0.5163, -0.1776, -0.4407,\n",
       "        -0.5925, -0.7778, -0.0485, -0.5628, -0.3271, -0.1608, -0.8386, -0.5278,\n",
       "        -0.3442, -0.3019,  0.3387,  0.0756, -0.0762, -0.2615,  0.4678, -0.0465,\n",
       "         0.1892,  0.3555, -0.3223, -0.0115,  0.1721,  0.2144, -0.2631, -0.4149,\n",
       "        -0.6003,  0.1291, -0.3852, -0.1495,  0.0168, -0.6610, -0.3502, -0.1666,\n",
       "        -0.1243, -0.1518, -0.3371,  0.3922, -0.1221,  0.1136,  0.2799, -0.3979,\n",
       "        -0.0871,  0.0965,  0.1388, -0.1854,  0.5440,  0.0297,  0.2654,  0.4317,\n",
       "        -0.2461,  0.0647,  0.2482,  0.2906,  0.7293,  0.2150,  0.4507,  0.6171,\n",
       "        -0.0607,  0.2500,  0.4336,  0.4759, -0.5143, -0.2786, -0.1123, -0.7901,\n",
       "        -0.4793, -0.2957, -0.2534,  0.2357,  0.4020, -0.2758,  0.0350,  0.2186,\n",
       "         0.2609,  0.1663, -0.5115, -0.2007, -0.0171,  0.0252, -0.6778, -0.3670,\n",
       "        -0.1834, -0.1411,  0.3108,  0.4944,  0.5367,  0.1836,  0.2259,  0.0423])"
      ]
     },
     "execution_count": 26,
     "metadata": {},
     "output_type": "execute_result"
    }
   ],
   "source": [
    "dx_pairs = torch.diff(x_pairs, axis=1).ravel()\n",
    "dx_pairs"
   ]
  },
  {
   "cell_type": "markdown",
   "metadata": {},
   "source": [
    "The total distance is just $d_{ij}= \\sqrt{\\Delta x_{ij}^2 + \\Delta y_{ij}^2}$. Since there are $n(n-1)/2$ pairs, there will be $n(n-1)/2$ different values of $d_{ij}$."
   ]
  },
  {
   "cell_type": "code",
   "execution_count": 27,
   "metadata": {},
   "outputs": [
    {
     "data": {
      "text/plain": [
       "tensor([0.0156, 0.6553, 0.1274, 0.6638, 0.2286, 0.5245, 0.5475, 0.7558, 0.4702,\n",
       "        0.7103, 0.5444, 0.2747, 0.0770, 0.2625, 0.2971, 0.6409, 0.1301, 0.6659,\n",
       "        0.2129, 0.5358, 0.5618, 0.7559, 0.4808, 0.7168, 0.5291, 0.2896, 0.0733,\n",
       "        0.2494, 0.2876, 0.6324, 0.8010, 0.4524, 0.9891, 1.1050, 0.7878, 0.9269,\n",
       "        0.9803, 0.1704, 0.9293, 0.6066, 0.3987, 0.4187, 0.5364, 0.2739, 0.4336,\n",
       "        0.4944, 0.6294, 0.3742, 0.5901, 0.5516, 0.3242, 0.0673, 0.2378, 0.2272,\n",
       "        0.7283, 0.4150, 0.6003, 0.1292, 0.3878, 0.2069, 0.8378, 0.7627, 0.5960,\n",
       "        0.6035, 0.5064, 0.7066, 0.7615, 0.7887, 0.6462, 0.8300, 0.3217, 0.4975,\n",
       "        0.2153, 0.1383, 0.2339, 0.1855, 0.5440, 0.0630, 0.2964, 0.9521, 0.4624,\n",
       "        0.4974, 0.6410, 0.5799, 0.7293, 0.2204, 0.4718, 1.0434, 0.3890, 0.5465,\n",
       "        0.7271, 0.6864, 0.5167, 0.3108, 0.8503, 0.8792, 0.6836, 0.6557, 0.5571,\n",
       "        0.3013, 0.8891, 0.4346, 0.4390, 0.5783, 0.5170, 0.9947, 0.7320, 0.6567,\n",
       "        0.7233, 0.6345, 0.8175, 0.5109, 0.3163, 0.3743, 0.3270, 0.5331, 0.5479,\n",
       "        0.2080, 0.2261, 0.0986])"
      ]
     },
     "execution_count": 27,
     "metadata": {},
     "output_type": "execute_result"
    }
   ],
   "source": [
    "x_pairs = torch.stack([r[0][ids_pairs[:,0]], r[0][ids_pairs[:,1]]]).T\n",
    "y_pairs = torch.stack([r[1][ids_pairs[:,0]], r[1][ids_pairs[:,1]]]).T\n",
    "dx_pairs = torch.diff(x_pairs, axis=1).ravel()\n",
    "dy_pairs = torch.diff(y_pairs, axis=1).ravel()\n",
    "d_pairs = torch.sqrt(dx_pairs**2 + dy_pairs**2)\n",
    "d_pairs"
   ]
  },
  {
   "cell_type": "markdown",
   "metadata": {},
   "source": [
    "# Part 2: Velocities of a Collision"
   ]
  },
  {
   "cell_type": "markdown",
   "metadata": {},
   "source": [
    "So at each iteration of the simulation, we will evaluate `d_pairs`, and if any of the distances between particles is less than $2r$, then a collision occurs. What is the final velocity of each of the two spheres? In an elastic collision (conservation of energy + momentum + angular momentum), one can show\n",
    "\n",
    "$$\\vec{v}_1^{\\text{new}} = \\vec{v}_1 - \\frac{(\\vec{v}_1 - \\vec{v}_2) \\cdot (\\vec{r}_1 - \\vec{r}_2)}{|\\vec{r}_1 - \\vec{r}_2|^2} (\\vec{r}_1 - \\vec{r}_2)$$\n",
    "$$\\vec{v}_2^{\\text{new}} = \\vec{v}_2 - \\frac{(\\vec{v}_2 - \\vec{v}_1) \\cdot (\\vec{r}_2 - \\vec{r}_1)}{|\\vec{r}_1 - \\vec{r}_2|^2} (\\vec{r}_2 - \\vec{r}_1)$$"
   ]
  },
  {
   "cell_type": "code",
   "execution_count": 28,
   "metadata": {},
   "outputs": [
    {
     "data": {
      "text/plain": [
       "tensor([[ 0,  1],\n",
       "        [ 0, 13],\n",
       "        [ 1, 13],\n",
       "        [ 3, 13],\n",
       "        [ 6,  9],\n",
       "        [14, 15]])"
      ]
     },
     "execution_count": 28,
     "metadata": {},
     "output_type": "execute_result"
    }
   ],
   "source": [
    "radius = 0.06\n",
    "ids_pairs_collide = ids_pairs[d_pairs < 2*radius]\n",
    "ids_pairs_collide"
   ]
  },
  {
   "cell_type": "markdown",
   "metadata": {},
   "source": [
    "We will call all the particles in the left column \"1\" and the right column \"2\""
   ]
  },
  {
   "cell_type": "code",
   "execution_count": 29,
   "metadata": {},
   "outputs": [],
   "source": [
    "v1 = v[:,ids_pairs_collide[:,0]]\n",
    "v2 = v[:,ids_pairs_collide[:,1]]\n",
    "r1 = r[:,ids_pairs_collide[:,0]]\n",
    "r2 = r[:,ids_pairs_collide[:,1]]"
   ]
  },
  {
   "cell_type": "markdown",
   "metadata": {},
   "source": [
    "Then we can compute the new velocity:"
   ]
  },
  {
   "cell_type": "code",
   "execution_count": 30,
   "metadata": {},
   "outputs": [],
   "source": [
    "v1new = v1 - torch.sum((v1-v2)*(r1-r2), axis=0)/torch.sum((r1-r2)**2, axis=0) * (r1-r2)\n",
    "v2new = v2 - torch.sum((v1-v2)*(r1-r2), axis=0)/torch.sum((r2-r1)**2, axis=0) * (r2-r1)"
   ]
  },
  {
   "cell_type": "markdown",
   "metadata": {},
   "source": [
    "# Part 3: Functions to Run the Simulation"
   ]
  },
  {
   "cell_type": "markdown",
   "metadata": {},
   "source": [
    "Here we define some functions that will help make running the simulation easier."
   ]
  },
  {
   "cell_type": "code",
   "execution_count": 38,
   "metadata": {},
   "outputs": [],
   "source": [
    "def get_deltad2_pairs(r, ids_pairs):\n",
    "    dx = torch.diff(torch.stack([r[0][ids_pairs[:,0]], r[0][ids_pairs[:,1]]]).T).squeeze()\n",
    "    dy = torch.diff(torch.stack([r[1][ids_pairs[:,0]], r[1][ids_pairs[:,1]]]).T).squeeze()\n",
    "    return dx**2 + dy**2\n",
    "\n",
    "def compute_new_v(v1, v2, r1, r2):\n",
    "    v1new = v1 - torch.sum((v1-v2)*(r1-r2), axis=0)/torch.sum((r1-r2)**2, axis=0) * (r1-r2)\n",
    "    v2new = v2 - torch.sum((v1-v2)*(r1-r2), axis=0)/torch.sum((r2-r1)**2, axis=0) * (r2-r1)\n",
    "    return v1new, v2new\n",
    "\n",
    "def motion(r, v, id_pairs, ts, dt, d_cutoff):\n",
    "    rs = torch.zeros((ts, r.shape[0], r.shape[1])).to(device)\n",
    "    vs = torch.zeros((ts, v.shape[0], v.shape[1])).to(device)\n",
    "    # Initial State\n",
    "    rs[0] = r\n",
    "    vs[0] = v\n",
    "    for i in range(1,ts):\n",
    "        ic = id_pairs[get_deltad2_pairs(r, id_pairs) < d_cutoff**2]\n",
    "        v[:,ic[:,0]], v[:,ic[:,1]] = compute_new_v(v[:,ic[:,0]], v[:,ic[:,1]], r[:,ic[:,0]], r[:,ic[:,1]])\n",
    "        \n",
    "        v[0,r[0]>1] = -torch.abs(v[0,r[0]>1])\n",
    "        v[0,r[0]<0] = torch.abs(v[0,r[0]<0])\n",
    "        v[1,r[1]>1] = -torch.abs(v[1,r[1]>1])\n",
    "        v[1,r[1]<0] = torch.abs(v[1,r[1]<0])\n",
    "        \n",
    "        r = r + v*dt\n",
    "        rs[i] = r\n",
    "        vs[i] = v\n",
    "    return rs, vs"
   ]
  },
  {
   "cell_type": "markdown",
   "metadata": {},
   "source": [
    "Set the radius and find the position of all particles as a function of time (3D array `rs` where each axis is $(t,x,y)$)."
   ]
  },
  {
   "cell_type": "code",
   "execution_count": 41,
   "metadata": {},
   "outputs": [],
   "source": [
    "n_particles = 4"
   ]
  },
  {
   "cell_type": "code",
   "execution_count": 39,
   "metadata": {},
   "outputs": [],
   "source": [
    "radius = 0.03\n",
    "rs, vs = motion(r, v, ids_pairs, ts=1000, dt=0.000008, d_cutoff=2*radius)"
   ]
  },
  {
   "cell_type": "markdown",
   "metadata": {},
   "source": [
    "Plot red and blue circles, making sure each is the correct size."
   ]
  },
  {
   "cell_type": "code",
   "execution_count": 33,
   "metadata": {},
   "outputs": [
    {
     "data": {
      "image/png": "[encoded data removed]",
      "text/plain": [
       "<Figure size 500x500 with 1 Axes>"
      ]
     },
     "metadata": {},
     "output_type": "display_data"
    }
   ],
   "source": [
    "fig, ax = plt.subplots(1,1,figsize=(5,5))\n",
    "xred, yred = rs[0][0][ixr], rs[0][1][ixr]\n",
    "xblue, yblue = rs[0][0][ixl],rs[0][1][ixl]\n",
    "circles_red = [plt.Circle((xi, yi), radius=radius, linewidth=0) for xi,yi in zip(xred,yred)]\n",
    "circles_blue = [plt.Circle((xi, yi), radius=radius, linewidth=0) for xi,yi in zip(xblue,yblue)]\n",
    "cred = matplotlib.collections.PatchCollection(circles_red, facecolors='red')\n",
    "cblue = matplotlib.collections.PatchCollection(circles_blue, facecolors='blue')\n",
    "ax.add_collection(cred)\n",
    "ax.add_collection(cblue)\n",
    "ax.set_xlim(0,1)\n",
    "ax.set_ylim(0,1)\n",
    "plt.show()"
   ]
  },
  {
   "cell_type": "markdown",
   "metadata": {},
   "source": [
    "Make initial animation of the simulation"
   ]
  },
  {
   "cell_type": "code",
   "execution_count": 35,
   "metadata": {},
   "outputs": [
    {
     "ename": "FileNotFoundError",
     "evalue": "[Errno 2] No such file or directory: 'ffmpeg'",
     "output_type": "error",
     "traceback": [
      "\u001b[31m---------------------------------------------------------------------------\u001b[39m",
      "\u001b[31mFileNotFoundError\u001b[39m                         Traceback (most recent call last)",
      "\u001b[36mCell\u001b[39m\u001b[36m \u001b[39m\u001b[32mIn[35]\u001b[39m\u001b[32m, line 20\u001b[39m\n\u001b[32m     18\u001b[39m writer = animation.FFMpegWriter(fps=\u001b[32m30\u001b[39m)\n\u001b[32m     19\u001b[39m ani = animation.FuncAnimation(fig, animate, frames=\u001b[32m500\u001b[39m, interval=\u001b[32m50\u001b[39m, blit=\u001b[38;5;28;01mTrue\u001b[39;00m)\n\u001b[32m---> \u001b[39m\u001b[32m20\u001b[39m \u001b[43mani\u001b[49m\u001b[43m.\u001b[49m\u001b[43msave\u001b[49m\u001b[43m(\u001b[49m\u001b[33;43m'\u001b[39;49m\u001b[33;43mani3.mp4\u001b[39;49m\u001b[33;43m'\u001b[39;49m\u001b[43m,\u001b[49m\u001b[43mwriter\u001b[49m\u001b[43m=\u001b[49m\u001b[43mwriter\u001b[49m\u001b[43m,\u001b[49m\u001b[43mdpi\u001b[49m\u001b[43m=\u001b[49m\u001b[32;43m100\u001b[39;49m\u001b[43m)\u001b[49m\n",
      "\u001b[36mFile \u001b[39m\u001b[32m~/Projects/pytorch-tutorial/venv/lib/python3.13/site-packages/matplotlib/animation.py:1098\u001b[39m, in \u001b[36mAnimation.save\u001b[39m\u001b[34m(self, filename, writer, fps, dpi, codec, bitrate, extra_args, metadata, extra_anim, savefig_kwargs, progress_callback)\u001b[39m\n\u001b[32m   1093\u001b[39m     \u001b[38;5;28;01mreturn\u001b[39;00m a * np.array([r, g, b]) + \u001b[32m1\u001b[39m - a\n\u001b[32m   1095\u001b[39m \u001b[38;5;66;03m# canvas._is_saving = True makes the draw_event animation-starting\u001b[39;00m\n\u001b[32m   1096\u001b[39m \u001b[38;5;66;03m# callback a no-op; canvas.manager = None prevents resizing the GUI\u001b[39;00m\n\u001b[32m   1097\u001b[39m \u001b[38;5;66;03m# widget (both are likewise done in savefig()).\u001b[39;00m\n\u001b[32m-> \u001b[39m\u001b[32m1098\u001b[39m \u001b[43m\u001b[49m\u001b[38;5;28;43;01mwith\u001b[39;49;00m\u001b[43m \u001b[49m\u001b[43m(\u001b[49m\u001b[43mwriter\u001b[49m\u001b[43m.\u001b[49m\u001b[43msaving\u001b[49m\u001b[43m(\u001b[49m\u001b[38;5;28;43mself\u001b[39;49m\u001b[43m.\u001b[49m\u001b[43m_fig\u001b[49m\u001b[43m,\u001b[49m\u001b[43m \u001b[49m\u001b[43mfilename\u001b[49m\u001b[43m,\u001b[49m\u001b[43m \u001b[49m\u001b[43mdpi\u001b[49m\u001b[43m)\u001b[49m\u001b[43m,\u001b[49m\n\u001b[32m   1099\u001b[39m \u001b[43m      \u001b[49m\u001b[43mcbook\u001b[49m\u001b[43m.\u001b[49m\u001b[43m_setattr_cm\u001b[49m\u001b[43m(\u001b[49m\u001b[38;5;28;43mself\u001b[39;49m\u001b[43m.\u001b[49m\u001b[43m_fig\u001b[49m\u001b[43m.\u001b[49m\u001b[43mcanvas\u001b[49m\u001b[43m,\u001b[49m\u001b[43m \u001b[49m\u001b[43m_is_saving\u001b[49m\u001b[43m=\u001b[49m\u001b[38;5;28;43;01mTrue\u001b[39;49;00m\u001b[43m,\u001b[49m\u001b[43m \u001b[49m\u001b[43mmanager\u001b[49m\u001b[43m=\u001b[49m\u001b[38;5;28;43;01mNone\u001b[39;49;00m\u001b[43m)\u001b[49m\u001b[43m)\u001b[49m\u001b[43m:\u001b[49m\n\u001b[32m   1100\u001b[39m \u001b[43m    \u001b[49m\u001b[38;5;28;43;01mif\u001b[39;49;00m\u001b[43m \u001b[49m\u001b[38;5;129;43;01mnot\u001b[39;49;00m\u001b[43m \u001b[49m\u001b[43mwriter\u001b[49m\u001b[43m.\u001b[49m\u001b[43m_supports_transparency\u001b[49m\u001b[43m(\u001b[49m\u001b[43m)\u001b[49m\u001b[43m:\u001b[49m\n\u001b[32m   1101\u001b[39m \u001b[43m        \u001b[49m\u001b[43mfacecolor\u001b[49m\u001b[43m \u001b[49m\u001b[43m=\u001b[49m\u001b[43m \u001b[49m\u001b[43msavefig_kwargs\u001b[49m\u001b[43m.\u001b[49m\u001b[43mget\u001b[49m\u001b[43m(\u001b[49m\u001b[33;43m'\u001b[39;49m\u001b[33;43mfacecolor\u001b[39;49m\u001b[33;43m'\u001b[39;49m\u001b[43m,\u001b[49m\n\u001b[32m   1102\u001b[39m \u001b[43m                                       \u001b[49m\u001b[43mmpl\u001b[49m\u001b[43m.\u001b[49m\u001b[43mrcParams\u001b[49m\u001b[43m[\u001b[49m\u001b[33;43m'\u001b[39;49m\u001b[33;43msavefig.facecolor\u001b[39;49m\u001b[33;43m'\u001b[39;49m\u001b[43m]\u001b[49m\u001b[43m)\u001b[49m\n",
      "\u001b[36mFile \u001b[39m\u001b[32m/opt/homebrew/Cellar/python@3.13/3.13.2/Frameworks/Python.framework/Versions/3.13/lib/python3.13/contextlib.py:141\u001b[39m, in \u001b[36m_GeneratorContextManager.__enter__\u001b[39m\u001b[34m(self)\u001b[39m\n\u001b[32m    139\u001b[39m \u001b[38;5;28;01mdel\u001b[39;00m \u001b[38;5;28mself\u001b[39m.args, \u001b[38;5;28mself\u001b[39m.kwds, \u001b[38;5;28mself\u001b[39m.func\n\u001b[32m    140\u001b[39m \u001b[38;5;28;01mtry\u001b[39;00m:\n\u001b[32m--> \u001b[39m\u001b[32m141\u001b[39m     \u001b[38;5;28;01mreturn\u001b[39;00m \u001b[38;5;28;43mnext\u001b[39;49m\u001b[43m(\u001b[49m\u001b[38;5;28;43mself\u001b[39;49m\u001b[43m.\u001b[49m\u001b[43mgen\u001b[49m\u001b[43m)\u001b[49m\n\u001b[32m    142\u001b[39m \u001b[38;5;28;01mexcept\u001b[39;00m \u001b[38;5;167;01mStopIteration\u001b[39;00m:\n\u001b[32m    143\u001b[39m     \u001b[38;5;28;01mraise\u001b[39;00m \u001b[38;5;167;01mRuntimeError\u001b[39;00m(\u001b[33m\"\u001b[39m\u001b[33mgenerator didn\u001b[39m\u001b[33m'\u001b[39m\u001b[33mt yield\u001b[39m\u001b[33m\"\u001b[39m) \u001b[38;5;28;01mfrom\u001b[39;00m\u001b[38;5;250m \u001b[39m\u001b[38;5;28;01mNone\u001b[39;00m\n",
      "\u001b[36mFile \u001b[39m\u001b[32m~/Projects/pytorch-tutorial/venv/lib/python3.13/site-packages/matplotlib/animation.py:221\u001b[39m, in \u001b[36mAbstractMovieWriter.saving\u001b[39m\u001b[34m(self, fig, outfile, dpi, *args, **kwargs)\u001b[39m\n\u001b[32m    216\u001b[39m     _log.info(\u001b[33m\"\u001b[39m\u001b[33mDisabling savefig.bbox = \u001b[39m\u001b[33m'\u001b[39m\u001b[33mtight\u001b[39m\u001b[33m'\u001b[39m\u001b[33m, as it may cause \u001b[39m\u001b[33m\"\u001b[39m\n\u001b[32m    217\u001b[39m               \u001b[33m\"\u001b[39m\u001b[33mframe size to vary, which is inappropriate for \u001b[39m\u001b[33m\"\u001b[39m\n\u001b[32m    218\u001b[39m               \u001b[33m\"\u001b[39m\u001b[33manimation.\u001b[39m\u001b[33m\"\u001b[39m)\n\u001b[32m    220\u001b[39m \u001b[38;5;66;03m# This particular sequence is what contextlib.contextmanager wants\u001b[39;00m\n\u001b[32m--> \u001b[39m\u001b[32m221\u001b[39m \u001b[38;5;28;43mself\u001b[39;49m\u001b[43m.\u001b[49m\u001b[43msetup\u001b[49m\u001b[43m(\u001b[49m\u001b[43mfig\u001b[49m\u001b[43m,\u001b[49m\u001b[43m \u001b[49m\u001b[43moutfile\u001b[49m\u001b[43m,\u001b[49m\u001b[43m \u001b[49m\u001b[43mdpi\u001b[49m\u001b[43m,\u001b[49m\u001b[43m \u001b[49m\u001b[43m*\u001b[49m\u001b[43margs\u001b[49m\u001b[43m,\u001b[49m\u001b[43m \u001b[49m\u001b[43m*\u001b[49m\u001b[43m*\u001b[49m\u001b[43mkwargs\u001b[49m\u001b[43m)\u001b[49m\n\u001b[32m    222\u001b[39m \u001b[38;5;28;01mwith\u001b[39;00m mpl.rc_context({\u001b[33m'\u001b[39m\u001b[33msavefig.bbox\u001b[39m\u001b[33m'\u001b[39m: \u001b[38;5;28;01mNone\u001b[39;00m}):\n\u001b[32m    223\u001b[39m     \u001b[38;5;28;01mtry\u001b[39;00m:\n",
      "\u001b[36mFile \u001b[39m\u001b[32m~/Projects/pytorch-tutorial/venv/lib/python3.13/site-packages/matplotlib/animation.py:312\u001b[39m, in \u001b[36mMovieWriter.setup\u001b[39m\u001b[34m(self, fig, outfile, dpi)\u001b[39m\n\u001b[32m    309\u001b[39m \u001b[38;5;28mself\u001b[39m._w, \u001b[38;5;28mself\u001b[39m._h = \u001b[38;5;28mself\u001b[39m._adjust_frame_size()\n\u001b[32m    310\u001b[39m \u001b[38;5;66;03m# Run here so that grab_frame() can write the data to a pipe. This\u001b[39;00m\n\u001b[32m    311\u001b[39m \u001b[38;5;66;03m# eliminates the need for temp files.\u001b[39;00m\n\u001b[32m--> \u001b[39m\u001b[32m312\u001b[39m \u001b[38;5;28;43mself\u001b[39;49m\u001b[43m.\u001b[49m\u001b[43m_run\u001b[49m\u001b[43m(\u001b[49m\u001b[43m)\u001b[49m\n",
      "\u001b[36mFile \u001b[39m\u001b[32m~/Projects/pytorch-tutorial/venv/lib/python3.13/site-packages/matplotlib/animation.py:322\u001b[39m, in \u001b[36mMovieWriter._run\u001b[39m\u001b[34m(self)\u001b[39m\n\u001b[32m    319\u001b[39m _log.info(\u001b[33m'\u001b[39m\u001b[33mMovieWriter._run: running command: \u001b[39m\u001b[38;5;132;01m%s\u001b[39;00m\u001b[33m'\u001b[39m,\n\u001b[32m    320\u001b[39m           cbook._pformat_subprocess(command))\n\u001b[32m    321\u001b[39m PIPE = subprocess.PIPE\n\u001b[32m--> \u001b[39m\u001b[32m322\u001b[39m \u001b[38;5;28mself\u001b[39m._proc = \u001b[43msubprocess\u001b[49m\u001b[43m.\u001b[49m\u001b[43mPopen\u001b[49m\u001b[43m(\u001b[49m\n\u001b[32m    323\u001b[39m \u001b[43m    \u001b[49m\u001b[43mcommand\u001b[49m\u001b[43m,\u001b[49m\u001b[43m \u001b[49m\u001b[43mstdin\u001b[49m\u001b[43m=\u001b[49m\u001b[43mPIPE\u001b[49m\u001b[43m,\u001b[49m\u001b[43m \u001b[49m\u001b[43mstdout\u001b[49m\u001b[43m=\u001b[49m\u001b[43mPIPE\u001b[49m\u001b[43m,\u001b[49m\u001b[43m \u001b[49m\u001b[43mstderr\u001b[49m\u001b[43m=\u001b[49m\u001b[43mPIPE\u001b[49m\u001b[43m,\u001b[49m\n\u001b[32m    324\u001b[39m \u001b[43m    \u001b[49m\u001b[43mcreationflags\u001b[49m\u001b[43m=\u001b[49m\u001b[43msubprocess_creation_flags\u001b[49m\u001b[43m)\u001b[49m\n",
      "\u001b[36mFile \u001b[39m\u001b[32m/opt/homebrew/Cellar/python@3.13/3.13.2/Frameworks/Python.framework/Versions/3.13/lib/python3.13/subprocess.py:1038\u001b[39m, in \u001b[36mPopen.__init__\u001b[39m\u001b[34m(self, args, bufsize, executable, stdin, stdout, stderr, preexec_fn, close_fds, shell, cwd, env, universal_newlines, startupinfo, creationflags, restore_signals, start_new_session, pass_fds, user, group, extra_groups, encoding, errors, text, umask, pipesize, process_group)\u001b[39m\n\u001b[32m   1034\u001b[39m         \u001b[38;5;28;01mif\u001b[39;00m \u001b[38;5;28mself\u001b[39m.text_mode:\n\u001b[32m   1035\u001b[39m             \u001b[38;5;28mself\u001b[39m.stderr = io.TextIOWrapper(\u001b[38;5;28mself\u001b[39m.stderr,\n\u001b[32m   1036\u001b[39m                     encoding=encoding, errors=errors)\n\u001b[32m-> \u001b[39m\u001b[32m1038\u001b[39m     \u001b[38;5;28;43mself\u001b[39;49m\u001b[43m.\u001b[49m\u001b[43m_execute_child\u001b[49m\u001b[43m(\u001b[49m\u001b[43margs\u001b[49m\u001b[43m,\u001b[49m\u001b[43m \u001b[49m\u001b[43mexecutable\u001b[49m\u001b[43m,\u001b[49m\u001b[43m \u001b[49m\u001b[43mpreexec_fn\u001b[49m\u001b[43m,\u001b[49m\u001b[43m \u001b[49m\u001b[43mclose_fds\u001b[49m\u001b[43m,\u001b[49m\n\u001b[32m   1039\u001b[39m \u001b[43m                        \u001b[49m\u001b[43mpass_fds\u001b[49m\u001b[43m,\u001b[49m\u001b[43m \u001b[49m\u001b[43mcwd\u001b[49m\u001b[43m,\u001b[49m\u001b[43m \u001b[49m\u001b[43menv\u001b[49m\u001b[43m,\u001b[49m\n\u001b[32m   1040\u001b[39m \u001b[43m                        \u001b[49m\u001b[43mstartupinfo\u001b[49m\u001b[43m,\u001b[49m\u001b[43m \u001b[49m\u001b[43mcreationflags\u001b[49m\u001b[43m,\u001b[49m\u001b[43m \u001b[49m\u001b[43mshell\u001b[49m\u001b[43m,\u001b[49m\n\u001b[32m   1041\u001b[39m \u001b[43m                        \u001b[49m\u001b[43mp2cread\u001b[49m\u001b[43m,\u001b[49m\u001b[43m \u001b[49m\u001b[43mp2cwrite\u001b[49m\u001b[43m,\u001b[49m\n\u001b[32m   1042\u001b[39m \u001b[43m                        \u001b[49m\u001b[43mc2pread\u001b[49m\u001b[43m,\u001b[49m\u001b[43m \u001b[49m\u001b[43mc2pwrite\u001b[49m\u001b[43m,\u001b[49m\n\u001b[32m   1043\u001b[39m \u001b[43m                        \u001b[49m\u001b[43merrread\u001b[49m\u001b[43m,\u001b[49m\u001b[43m \u001b[49m\u001b[43merrwrite\u001b[49m\u001b[43m,\u001b[49m\n\u001b[32m   1044\u001b[39m \u001b[43m                        \u001b[49m\u001b[43mrestore_signals\u001b[49m\u001b[43m,\u001b[49m\n\u001b[32m   1045\u001b[39m \u001b[43m                        \u001b[49m\u001b[43mgid\u001b[49m\u001b[43m,\u001b[49m\u001b[43m \u001b[49m\u001b[43mgids\u001b[49m\u001b[43m,\u001b[49m\u001b[43m \u001b[49m\u001b[43muid\u001b[49m\u001b[43m,\u001b[49m\u001b[43m \u001b[49m\u001b[43mumask\u001b[49m\u001b[43m,\u001b[49m\n\u001b[32m   1046\u001b[39m \u001b[43m                        \u001b[49m\u001b[43mstart_new_session\u001b[49m\u001b[43m,\u001b[49m\u001b[43m \u001b[49m\u001b[43mprocess_group\u001b[49m\u001b[43m)\u001b[49m\n\u001b[32m   1047\u001b[39m \u001b[38;5;28;01mexcept\u001b[39;00m:\n\u001b[32m   1048\u001b[39m     \u001b[38;5;66;03m# Cleanup if the child failed starting.\u001b[39;00m\n\u001b[32m   1049\u001b[39m     \u001b[38;5;28;01mfor\u001b[39;00m f \u001b[38;5;129;01min\u001b[39;00m \u001b[38;5;28mfilter\u001b[39m(\u001b[38;5;28;01mNone\u001b[39;00m, (\u001b[38;5;28mself\u001b[39m.stdin, \u001b[38;5;28mself\u001b[39m.stdout, \u001b[38;5;28mself\u001b[39m.stderr)):\n",
      "\u001b[36mFile \u001b[39m\u001b[32m/opt/homebrew/Cellar/python@3.13/3.13.2/Frameworks/Python.framework/Versions/3.13/lib/python3.13/subprocess.py:1974\u001b[39m, in \u001b[36mPopen._execute_child\u001b[39m\u001b[34m(self, args, executable, preexec_fn, close_fds, pass_fds, cwd, env, startupinfo, creationflags, shell, p2cread, p2cwrite, c2pread, c2pwrite, errread, errwrite, restore_signals, gid, gids, uid, umask, start_new_session, process_group)\u001b[39m\n\u001b[32m   1972\u001b[39m     err_msg = os.strerror(errno_num)\n\u001b[32m   1973\u001b[39m \u001b[38;5;28;01mif\u001b[39;00m err_filename \u001b[38;5;129;01mis\u001b[39;00m \u001b[38;5;129;01mnot\u001b[39;00m \u001b[38;5;28;01mNone\u001b[39;00m:\n\u001b[32m-> \u001b[39m\u001b[32m1974\u001b[39m     \u001b[38;5;28;01mraise\u001b[39;00m child_exception_type(errno_num, err_msg, err_filename)\n\u001b[32m   1975\u001b[39m \u001b[38;5;28;01melse\u001b[39;00m:\n\u001b[32m   1976\u001b[39m     \u001b[38;5;28;01mraise\u001b[39;00m child_exception_type(errno_num, err_msg)\n",
      "\u001b[31mFileNotFoundError\u001b[39m: [Errno 2] No such file or directory: 'ffmpeg'"
     ]
    },
    {
     "data": {
      "image/png": "[encoded data removed]",
      "text/plain": [
       "<Figure size 500x500 with 1 Axes>"
      ]
     },
     "metadata": {},
     "output_type": "display_data"
    }
   ],
   "source": [
    "fig, ax = plt.subplots(1,1,figsize=(5,5))\n",
    "ax.clear()\n",
    "vmin = 0\n",
    "vmax = 1\n",
    "ax.set_xlim(0,1)\n",
    "ax.set_ylim(0,1)\n",
    "markersize = 2 * radius * ax.get_window_extent().width  / (vmax-vmin) * 72./fig.dpi\n",
    "red, = ax.plot([], [], 'o', color='red', markersize=markersize)\n",
    "blue, = ax.plot([], [], 'o', color='blue', markersize=markersize)\n",
    "\n",
    "def animate(i):\n",
    "    xred, yred = rs[i][0][ixr].cpu(), rs[i][1][ixr].cpu()\n",
    "    xblue, yblue = rs[i][0][ixl].cpu(),rs[i][1][ixl].cpu()\n",
    "    red.set_data(xred, yred)\n",
    "    blue.set_data(xblue, yblue)\n",
    "    return red, blue\n",
    "\n",
    "writer = animation.FFMpegWriter(fps=30)\n",
    "ani = animation.FuncAnimation(fig, animate, frames=500, interval=50, blit=True)\n",
    "ani.save('ani3.mp4',writer=writer,dpi=100)"
   ]
  },
  {
   "cell_type": "markdown",
   "metadata": {},
   "source": [
    "Now that we're sure that it works, lets make a simulation containing many more particles"
   ]
  },
  {
   "cell_type": "code",
   "execution_count": null,
   "metadata": {},
   "outputs": [],
   "source": [
    "n_particles = 5000\n",
    "r = torch.rand((2,n_particles)).to(device)\n",
    "ixr = r[0]>0.5 \n",
    "ixl = r[0]<=0.5 \n",
    "ids = torch.arange(n_particles)\n",
    "ids_pairs = torch.combinations(ids,2).to(device)\n",
    "v = torch.zeros((2,n_particles)).to(device)\n",
    "v[0][ixr] = -500\n",
    "v[0][ixl] = 500\n",
    "radius = 0.0005\n",
    "rs, vs = motion(r, v, ids_pairs, ts=1000, dt=0.000008, d_cutoff=2*radius)"
   ]
  },
  {
   "cell_type": "markdown",
   "metadata": {},
   "source": [
    "Let's look at the final velocity distribution of the particles and compare it to Maxwell-Boltzmann in 2 Dimensions:\n",
    "\n",
    "* $kT = KE_{avg} = \\frac{1}{2}m\\bar{v^2} \\implies \\boxed{\\frac{m}{kT} = \\frac{2}{\\bar{v^2}}}$\n",
    "* $\\boxed{f(v) = \\frac{m}{kT} v \\exp\\left(-\\frac{m}{kT}\\frac{v^2}{2} \\right)}$"
   ]
  },
  {
   "cell_type": "code",
   "execution_count": null,
   "metadata": {},
   "outputs": [],
   "source": [
    "v = np.linspace(0, 2000, 1000)\n",
    "a = 2/500**2\n",
    "fv = a*v*np.exp(-a*v**2 / 2)"
   ]
  },
  {
   "cell_type": "markdown",
   "metadata": {},
   "source": [
    "Plot the final histogram next to this curve:"
   ]
  },
  {
   "cell_type": "code",
   "execution_count": null,
   "metadata": {},
   "outputs": [
    {
     "data": {
      "text/plain": [
       "Text(0, 0.5, '# Particles')"
      ]
     },
     "execution_count": 31,
     "metadata": {},
     "output_type": "execute_result"
    },
    {
     "data": {
      "image/png": "[encoded data removed]",
      "text/plain": [
       "<Figure size 800x600 with 1 Axes>"
      ]
     },
     "metadata": {},
     "output_type": "display_data"
    }
   ],
   "source": [
    "bins = np.linspace(0,1500,50)\n",
    "plt.figure()\n",
    "plt.hist(torch.sqrt(torch.sum(vs[-1]**2, axis=0)).cpu(), bins=bins, density=True)\n",
    "plt.plot(v,fv)\n",
    "plt.xlabel('Velocity [m/s]')\n",
    "plt.ylabel('# Particles')"
   ]
  },
  {
   "cell_type": "markdown",
   "metadata": {},
   "source": [
    "Finally, we can make an animation of the particles moving around and the histogram at the same time"
   ]
  },
  {
   "cell_type": "code",
   "execution_count": null,
   "metadata": {},
   "outputs": [],
   "source": [
    "fig, axes = plt.subplots(1, 2, figsize=(20,10))\n",
    "axes[0].clear()\n",
    "vmin = 0\n",
    "vmax = 1\n",
    "axes[0].set_xlim(0,1)\n",
    "axes[0].set_ylim(0,1)\n",
    "markersize = 2 * radius * axes[0].get_window_extent().width  / (vmax-vmin) * 72./fig.dpi\n",
    "red, = axes[0].plot([], [], 'o', color='red', markersize=markersize)\n",
    "blue, = axes[0].plot([], [], 'o', color='blue', markersize=markersize)\n",
    "n, bins, patches = axes[1].hist(torch.sqrt(torch.sum(vs[0]**2, axis=0)).cpu(), bins=bins, density=True)\n",
    "axes[1].plot(v,fv)\n",
    "axes[1].set_ylim(top=0.003)\n",
    "\n",
    "def animate(i):\n",
    "    xred, yred = rs[i][0][ixr].cpu(), rs[i][1][ixr].cpu()\n",
    "    xblue, yblue = rs[i][0][ixl].cpu(),rs[i][1][ixl].cpu()\n",
    "    red.set_data(xred, yred)\n",
    "    blue.set_data(xblue, yblue)\n",
    "    hist, _ = np.histogram(torch.sqrt(torch.sum(vs[i]**2, axis=0)).cpu(), bins=bins, density=True)\n",
    "    for i, patch in enumerate(patches):\n",
    "        patch.set_height(hist[i])\n",
    "    return red, blue\n",
    "\n",
    "writer = animation.FFMpegWriter(fps=30)\n",
    "ani = animation.FuncAnimation(fig, animate, frames=500, interval=50, blit=True)\n",
    "ani.save('ani_gpu_10000.mp4',writer=writer,dpi=100)"
   ]
  }
 ],
 "metadata": {
  "kernelspec": {
   "display_name": "venv",
   "language": "python",
   "name": "python3"
  },
  "language_info": {
   "codemirror_mode": {
    "name": "ipython",
    "version": 3
   },
   "file_extension": ".py",
   "mimetype": "text/x-python",
   "name": "python",
   "nbconvert_exporter": "python",
   "pygments_lexer": "ipython3",
   "version": "3.13.2"
  }
 },
 "nbformat": 4,
 "nbformat_minor": 4
}
